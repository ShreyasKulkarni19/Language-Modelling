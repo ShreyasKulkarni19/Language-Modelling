{
  "cells": [
    {
      "cell_type": "markdown",
      "source": [
        "Credits to:\n",
        "1. Hugging-face\n",
        "2. Prof. Kaikai Liu\n",
        "3. Internet"
      ],
      "metadata": {
        "id": "T_hUaxCQvjhT"
      }
    },
    {
      "cell_type": "markdown",
      "metadata": {
        "id": "j2Q9Ys-Rzg8p"
      },
      "source": [
        "#Installing libraries"
      ]
    },
    {
      "cell_type": "code",
      "execution_count": 46,
      "metadata": {
        "colab": {
          "base_uri": "https://localhost:8080/"
        },
        "id": "nf-jEVGXcKh4",
        "outputId": "931524f2-6267-4e47-8db3-b8761d4c0980"
      },
      "outputs": [
        {
          "output_type": "stream",
          "name": "stdout",
          "text": [
            "Requirement already satisfied: transformers in /usr/local/lib/python3.10/dist-packages (4.46.3)\n",
            "Requirement already satisfied: matplotlib in /usr/local/lib/python3.10/dist-packages (3.8.0)\n",
            "Requirement already satisfied: datasets in /usr/local/lib/python3.10/dist-packages (3.1.0)\n",
            "Requirement already satisfied: evaluate in /usr/local/lib/python3.10/dist-packages (0.4.3)\n",
            "Requirement already satisfied: seaborn in /usr/local/lib/python3.10/dist-packages (0.13.2)\n",
            "Requirement already satisfied: rouge-score in /usr/local/lib/python3.10/dist-packages (0.1.2)\n",
            "Requirement already satisfied: bert-score in /usr/local/lib/python3.10/dist-packages (0.3.13)\n",
            "Requirement already satisfied: sacrebleu in /usr/local/lib/python3.10/dist-packages (2.4.3)\n",
            "Requirement already satisfied: gradio in /usr/local/lib/python3.10/dist-packages (5.8.0)\n",
            "Requirement already satisfied: filelock in /usr/local/lib/python3.10/dist-packages (from transformers) (3.16.1)\n",
            "Requirement already satisfied: huggingface-hub<1.0,>=0.23.2 in /usr/local/lib/python3.10/dist-packages (from transformers) (0.26.3)\n",
            "Requirement already satisfied: numpy>=1.17 in /usr/local/lib/python3.10/dist-packages (from transformers) (1.26.4)\n",
            "Requirement already satisfied: packaging>=20.0 in /usr/local/lib/python3.10/dist-packages (from transformers) (24.2)\n",
            "Requirement already satisfied: pyyaml>=5.1 in /usr/local/lib/python3.10/dist-packages (from transformers) (6.0.2)\n",
            "Requirement already satisfied: regex!=2019.12.17 in /usr/local/lib/python3.10/dist-packages (from transformers) (2024.9.11)\n",
            "Requirement already satisfied: requests in /usr/local/lib/python3.10/dist-packages (from transformers) (2.32.3)\n",
            "Requirement already satisfied: tokenizers<0.21,>=0.20 in /usr/local/lib/python3.10/dist-packages (from transformers) (0.20.3)\n",
            "Requirement already satisfied: safetensors>=0.4.1 in /usr/local/lib/python3.10/dist-packages (from transformers) (0.4.5)\n",
            "Requirement already satisfied: tqdm>=4.27 in /usr/local/lib/python3.10/dist-packages (from transformers) (4.66.6)\n",
            "Requirement already satisfied: contourpy>=1.0.1 in /usr/local/lib/python3.10/dist-packages (from matplotlib) (1.3.1)\n",
            "Requirement already satisfied: cycler>=0.10 in /usr/local/lib/python3.10/dist-packages (from matplotlib) (0.12.1)\n",
            "Requirement already satisfied: fonttools>=4.22.0 in /usr/local/lib/python3.10/dist-packages (from matplotlib) (4.55.0)\n",
            "Requirement already satisfied: kiwisolver>=1.0.1 in /usr/local/lib/python3.10/dist-packages (from matplotlib) (1.4.7)\n",
            "Requirement already satisfied: pillow>=6.2.0 in /usr/local/lib/python3.10/dist-packages (from matplotlib) (11.0.0)\n",
            "Requirement already satisfied: pyparsing>=2.3.1 in /usr/local/lib/python3.10/dist-packages (from matplotlib) (3.2.0)\n",
            "Requirement already satisfied: python-dateutil>=2.7 in /usr/local/lib/python3.10/dist-packages (from matplotlib) (2.8.2)\n",
            "Requirement already satisfied: pyarrow>=15.0.0 in /usr/local/lib/python3.10/dist-packages (from datasets) (17.0.0)\n",
            "Requirement already satisfied: dill<0.3.9,>=0.3.0 in /usr/local/lib/python3.10/dist-packages (from datasets) (0.3.8)\n",
            "Requirement already satisfied: pandas in /usr/local/lib/python3.10/dist-packages (from datasets) (2.2.2)\n",
            "Requirement already satisfied: xxhash in /usr/local/lib/python3.10/dist-packages (from datasets) (3.5.0)\n",
            "Requirement already satisfied: multiprocess<0.70.17 in /usr/local/lib/python3.10/dist-packages (from datasets) (0.70.16)\n",
            "Requirement already satisfied: fsspec<=2024.9.0,>=2023.1.0 in /usr/local/lib/python3.10/dist-packages (from fsspec[http]<=2024.9.0,>=2023.1.0->datasets) (2024.9.0)\n",
            "Requirement already satisfied: aiohttp in /usr/local/lib/python3.10/dist-packages (from datasets) (3.11.9)\n",
            "Requirement already satisfied: absl-py in /usr/local/lib/python3.10/dist-packages (from rouge-score) (1.4.0)\n",
            "Requirement already satisfied: nltk in /usr/local/lib/python3.10/dist-packages (from rouge-score) (3.9.1)\n",
            "Requirement already satisfied: six>=1.14.0 in /usr/local/lib/python3.10/dist-packages (from rouge-score) (1.16.0)\n",
            "Requirement already satisfied: torch>=1.0.0 in /usr/local/lib/python3.10/dist-packages (from bert-score) (2.5.1+cu121)\n",
            "Requirement already satisfied: portalocker in /usr/local/lib/python3.10/dist-packages (from sacrebleu) (3.0.0)\n",
            "Requirement already satisfied: tabulate>=0.8.9 in /usr/local/lib/python3.10/dist-packages (from sacrebleu) (0.9.0)\n",
            "Requirement already satisfied: colorama in /usr/local/lib/python3.10/dist-packages (from sacrebleu) (0.4.6)\n",
            "Requirement already satisfied: lxml in /usr/local/lib/python3.10/dist-packages (from sacrebleu) (5.3.0)\n",
            "Requirement already satisfied: aiofiles<24.0,>=22.0 in /usr/local/lib/python3.10/dist-packages (from gradio) (23.2.1)\n",
            "Requirement already satisfied: anyio<5.0,>=3.0 in /usr/local/lib/python3.10/dist-packages (from gradio) (3.7.1)\n",
            "Requirement already satisfied: fastapi<1.0,>=0.115.2 in /usr/local/lib/python3.10/dist-packages (from gradio) (0.115.6)\n",
            "Requirement already satisfied: ffmpy in /usr/local/lib/python3.10/dist-packages (from gradio) (0.4.0)\n",
            "Requirement already satisfied: gradio-client==1.5.1 in /usr/local/lib/python3.10/dist-packages (from gradio) (1.5.1)\n",
            "Requirement already satisfied: httpx>=0.24.1 in /usr/local/lib/python3.10/dist-packages (from gradio) (0.28.0)\n",
            "Requirement already satisfied: jinja2<4.0 in /usr/local/lib/python3.10/dist-packages (from gradio) (3.1.4)\n",
            "Requirement already satisfied: markupsafe~=2.0 in /usr/local/lib/python3.10/dist-packages (from gradio) (2.1.5)\n",
            "Requirement already satisfied: orjson~=3.0 in /usr/local/lib/python3.10/dist-packages (from gradio) (3.10.12)\n",
            "Requirement already satisfied: pydantic>=2.0 in /usr/local/lib/python3.10/dist-packages (from gradio) (2.10.2)\n",
            "Requirement already satisfied: pydub in /usr/local/lib/python3.10/dist-packages (from gradio) (0.25.1)\n",
            "Requirement already satisfied: python-multipart>=0.0.18 in /usr/local/lib/python3.10/dist-packages (from gradio) (0.0.19)\n",
            "Requirement already satisfied: ruff>=0.2.2 in /usr/local/lib/python3.10/dist-packages (from gradio) (0.8.2)\n",
            "Requirement already satisfied: safehttpx<0.2.0,>=0.1.6 in /usr/local/lib/python3.10/dist-packages (from gradio) (0.1.6)\n",
            "Requirement already satisfied: semantic-version~=2.0 in /usr/local/lib/python3.10/dist-packages (from gradio) (2.10.0)\n",
            "Requirement already satisfied: starlette<1.0,>=0.40.0 in /usr/local/lib/python3.10/dist-packages (from gradio) (0.41.3)\n",
            "Requirement already satisfied: tomlkit<0.14.0,>=0.12.0 in /usr/local/lib/python3.10/dist-packages (from gradio) (0.13.2)\n",
            "Requirement already satisfied: typer<1.0,>=0.12 in /usr/local/lib/python3.10/dist-packages (from gradio) (0.14.0)\n",
            "Requirement already satisfied: typing-extensions~=4.0 in /usr/local/lib/python3.10/dist-packages (from gradio) (4.12.2)\n",
            "Requirement already satisfied: uvicorn>=0.14.0 in /usr/local/lib/python3.10/dist-packages (from gradio) (0.32.1)\n",
            "Requirement already satisfied: websockets<15.0,>=10.0 in /usr/local/lib/python3.10/dist-packages (from gradio-client==1.5.1->gradio) (14.1)\n",
            "Requirement already satisfied: idna>=2.8 in /usr/local/lib/python3.10/dist-packages (from anyio<5.0,>=3.0->gradio) (3.10)\n",
            "Requirement already satisfied: sniffio>=1.1 in /usr/local/lib/python3.10/dist-packages (from anyio<5.0,>=3.0->gradio) (1.3.1)\n",
            "Requirement already satisfied: exceptiongroup in /usr/local/lib/python3.10/dist-packages (from anyio<5.0,>=3.0->gradio) (1.2.2)\n",
            "Requirement already satisfied: aiohappyeyeballs>=2.3.0 in /usr/local/lib/python3.10/dist-packages (from aiohttp->datasets) (2.4.4)\n",
            "Requirement already satisfied: aiosignal>=1.1.2 in /usr/local/lib/python3.10/dist-packages (from aiohttp->datasets) (1.3.1)\n",
            "Requirement already satisfied: async-timeout<6.0,>=4.0 in /usr/local/lib/python3.10/dist-packages (from aiohttp->datasets) (4.0.3)\n",
            "Requirement already satisfied: attrs>=17.3.0 in /usr/local/lib/python3.10/dist-packages (from aiohttp->datasets) (24.2.0)\n",
            "Requirement already satisfied: frozenlist>=1.1.1 in /usr/local/lib/python3.10/dist-packages (from aiohttp->datasets) (1.5.0)\n",
            "Requirement already satisfied: multidict<7.0,>=4.5 in /usr/local/lib/python3.10/dist-packages (from aiohttp->datasets) (6.1.0)\n",
            "Requirement already satisfied: propcache>=0.2.0 in /usr/local/lib/python3.10/dist-packages (from aiohttp->datasets) (0.2.1)\n",
            "Requirement already satisfied: yarl<2.0,>=1.17.0 in /usr/local/lib/python3.10/dist-packages (from aiohttp->datasets) (1.18.3)\n",
            "Requirement already satisfied: certifi in /usr/local/lib/python3.10/dist-packages (from httpx>=0.24.1->gradio) (2024.8.30)\n",
            "Requirement already satisfied: httpcore==1.* in /usr/local/lib/python3.10/dist-packages (from httpx>=0.24.1->gradio) (1.0.7)\n",
            "Requirement already satisfied: h11<0.15,>=0.13 in /usr/local/lib/python3.10/dist-packages (from httpcore==1.*->httpx>=0.24.1->gradio) (0.14.0)\n",
            "Requirement already satisfied: pytz>=2020.1 in /usr/local/lib/python3.10/dist-packages (from pandas->datasets) (2024.2)\n",
            "Requirement already satisfied: tzdata>=2022.7 in /usr/local/lib/python3.10/dist-packages (from pandas->datasets) (2024.2)\n",
            "Requirement already satisfied: annotated-types>=0.6.0 in /usr/local/lib/python3.10/dist-packages (from pydantic>=2.0->gradio) (0.7.0)\n",
            "Requirement already satisfied: pydantic-core==2.27.1 in /usr/local/lib/python3.10/dist-packages (from pydantic>=2.0->gradio) (2.27.1)\n",
            "Requirement already satisfied: charset-normalizer<4,>=2 in /usr/local/lib/python3.10/dist-packages (from requests->transformers) (3.4.0)\n",
            "Requirement already satisfied: urllib3<3,>=1.21.1 in /usr/local/lib/python3.10/dist-packages (from requests->transformers) (2.2.3)\n",
            "Requirement already satisfied: networkx in /usr/local/lib/python3.10/dist-packages (from torch>=1.0.0->bert-score) (3.4.2)\n",
            "Requirement already satisfied: sympy==1.13.1 in /usr/local/lib/python3.10/dist-packages (from torch>=1.0.0->bert-score) (1.13.1)\n",
            "Requirement already satisfied: mpmath<1.4,>=1.1.0 in /usr/local/lib/python3.10/dist-packages (from sympy==1.13.1->torch>=1.0.0->bert-score) (1.3.0)\n",
            "Requirement already satisfied: click>=8.0.0 in /usr/local/lib/python3.10/dist-packages (from typer<1.0,>=0.12->gradio) (8.1.7)\n",
            "Requirement already satisfied: shellingham>=1.3.0 in /usr/local/lib/python3.10/dist-packages (from typer<1.0,>=0.12->gradio) (1.5.4)\n",
            "Requirement already satisfied: rich>=10.11.0 in /usr/local/lib/python3.10/dist-packages (from typer<1.0,>=0.12->gradio) (13.9.4)\n",
            "Requirement already satisfied: joblib in /usr/local/lib/python3.10/dist-packages (from nltk->rouge-score) (1.4.2)\n",
            "Requirement already satisfied: markdown-it-py>=2.2.0 in /usr/local/lib/python3.10/dist-packages (from rich>=10.11.0->typer<1.0,>=0.12->gradio) (3.0.0)\n",
            "Requirement already satisfied: pygments<3.0.0,>=2.13.0 in /usr/local/lib/python3.10/dist-packages (from rich>=10.11.0->typer<1.0,>=0.12->gradio) (2.18.0)\n",
            "Requirement already satisfied: mdurl~=0.1 in /usr/local/lib/python3.10/dist-packages (from markdown-it-py>=2.2.0->rich>=10.11.0->typer<1.0,>=0.12->gradio) (0.1.2)\n"
          ]
        }
      ],
      "source": [
        "!pip install transformers matplotlib datasets evaluate seaborn rouge-score bert-score sacrebleu gradio"
      ]
    },
    {
      "cell_type": "markdown",
      "metadata": {
        "id": "ARmv5tdl6Di8"
      },
      "source": [
        "#Importing libraries and dataset"
      ]
    },
    {
      "cell_type": "code",
      "execution_count": 47,
      "metadata": {
        "id": "3CXo_EEScHbd"
      },
      "outputs": [],
      "source": [
        "from datasets import load_dataset\n",
        "from transformers import pipeline\n",
        "from rouge_score import rouge_scorer\n",
        "from bert_score import score as bert_score\n",
        "import matplotlib.pyplot as plt\n",
        "import gradio as gr\n",
        "from sacrebleu import corpus_bleu\n",
        "from datasets import load_dataset\n",
        "import warnings\n",
        "warnings.filterwarnings(\"ignore\")\n",
        "\n",
        "dataset = load_dataset(\"csebuetnlp/xlsum\", \"english\")\n",
        "\n"
      ]
    },
    {
      "cell_type": "code",
      "execution_count": 48,
      "metadata": {
        "colab": {
          "base_uri": "https://localhost:8080/"
        },
        "id": "GHz1WfWwT1-Q",
        "outputId": "0314db07-586a-4f22-cda1-a9d93866a53e"
      },
      "outputs": [
        {
          "output_type": "execute_result",
          "data": {
            "text/plain": [
              "DatasetDict({\n",
              "    train: Dataset({\n",
              "        features: ['id', 'url', 'title', 'summary', 'text'],\n",
              "        num_rows: 306522\n",
              "    })\n",
              "    test: Dataset({\n",
              "        features: ['id', 'url', 'title', 'summary', 'text'],\n",
              "        num_rows: 11535\n",
              "    })\n",
              "    validation: Dataset({\n",
              "        features: ['id', 'url', 'title', 'summary', 'text'],\n",
              "        num_rows: 11535\n",
              "    })\n",
              "})"
            ]
          },
          "metadata": {},
          "execution_count": 48
        }
      ],
      "source": [
        "dataset"
      ]
    },
    {
      "cell_type": "markdown",
      "metadata": {
        "id": "ML0NktiE6Iy2"
      },
      "source": [
        "# Using hugging-face pipelines for inference"
      ]
    },
    {
      "cell_type": "code",
      "execution_count": 49,
      "metadata": {
        "id": "1ASQqsW9dx2n"
      },
      "outputs": [],
      "source": [
        "facebook_cnn_pipe = pipeline(\"summarization\", model=\"facebook/bart-large-cnn\")\n",
        "distilbart_pipe = pipeline(\"summarization\", model=\"sshleifer/distilbart-cnn-12-6\")\n",
        "google_pipe = pipeline(\"summarization\", model=\"google/bigbird-pegasus-large-bigpatent\")\n",
        "\n"
      ]
    },
    {
      "cell_type": "markdown",
      "metadata": {
        "id": "qMzyCmwT6hNq"
      },
      "source": []
    },
    {
      "cell_type": "code",
      "execution_count": 50,
      "metadata": {
        "colab": {
          "base_uri": "https://localhost:8080/"
        },
        "id": "Up8JYwoBeXnn",
        "outputId": "8f18c202-c54f-491a-d332-463903c719f7"
      },
      "outputs": [
        {
          "output_type": "stream",
          "name": "stdout",
          "text": [
            "Original text:  By Kate DaileyBBC News Earlier this week, Trump posted a photo of himself sitting at a desk at Mar-a-Largo, a permanent marker hovering over a notepad. \"Writing my inaugural address at the Winter White House, Mar-a-Lago, three weeks ago. Looking forward to Friday,\" he tweeted. Trump vows to end 'American carnage' Trump's angry call to arms Full text of Trump's inauguration speech It's unclear whether the president-elect actually wrote the speech himself, but the content was pure Trump: the same populist message that resonated throughout the primaries and the campaign. \"Today, we are not merely transferring power from one administration to another, or from one party to another, but we are transferring power from Washington, DC, and giving it back to you, the people,\" he said at the beginning of his remarks. For some on Twitter, it bore an eerie similarity to the Batman villain Bane's speech in The Dark Night Rises, so much so that someone posted a 10-second mash-up of the two. But such snarky reactions, warned Fox News commentator Guy Benson, underestimate how popular his rhetoric is with Trump supporters. \"People panning the speech still don't seem to understand how resonant the 'I will never ignore you' theme has been, and still is,\" he wrote, referencing Trump's many callouts to those who feel left out of American progress. Trump spoke of a country whose citizens had too long been ignored by the coastal elite: \"Their victories have not been your victories. Their triumphs have not been your triumphs. And while they celebrated in our nation's capital, there was little to celebrate for struggling families all across our land.\" He painted a picture of a broken and damaged country, dotted with rusting-out factories \"like tombstones\", city streets plagued with \"crime and the gangs, and the drugs that have stolen too many lives,\" and the wealth of the middle class \"ripped from their homes and then redistributed all across the world\". It was an unusually bleak speech for an inaugural address. One democratic strategist called it \"startlingly angry\". Conservatives were more mixed. According to MSNBC host Joe Scarborough, the speech was not intended to follow tradition: \"Donald Trump's speech was not an inaugural address. It was a primal scream aimed at Washington, DC.\" Author Hugh Hewitt called it \"authentic, determined, almost grim\". He wrote, \"I expected more joy, but it cannot be said that POTUS @realDonaldTrump said anything he hasn't said before. He has a plan and it's going to roll out fast.\" Others were sceptical of the breadth of those plans. Trump said the country was poised to \"free the earth from the miseries of disease, and to harness the energies, industries and technologies of tomorrow\", as well as \"eradicate from the face of the Earth\" radical Islamic terrorism. Writer Ben Shapiro expressed doubt about Trump's plans to both take power away from DC, and use his position as President to steer trade and create jobs. \"These cannot both be true,\" he wrote. Many also noted that it's easy to campaign as an outsider, railing about America's problems, but harder to lead, when one must find solutions. \"After three months in which Trump is president and it's still the same Washington, that speech is going to seem wildly imprudent,\" wrote Noah Rothman, assistant editor at Commentary Magazine. Commentator Mary Katherine Hahn thinks voters aren't interested in sweeping rhetoric. \"I am unabashedly ideological. The country is not. His message is populist & popular. His opponents dismiss that at their political peril.\" Pollster Frank Luntz said President Trump seemed to pivot, if not in tone then at least in substance: \"President Trump's inaugural speech was the best delivery I've ever seen from him.\" A more well-known conservative kept mum on his opinion. When the Washington Post asked George W Bush what he thought of the speech, he merely replied, \"Good to see you.\" One high-profile Twitter user was an unabashed fan. Former Ku Klux Klan leader David Duke tweeted multiple times in favour of Trump's speech.\n",
            "-----------------------\n",
            "Original summary:  Donald Trump campaigned on becoming a president unlike any Washington has ever seen. With his inauguration speech, he's already set the tone.\n",
            "-----------------------\n",
            "Facebook:  [{'summary_text': 'Donald Trump\\'s inaugural speech was a populist call to arms. It was an unusually bleak speech for an inaugural address. One democratic strategist called it \"startlingly angry\" Conservatives were more mixed, with some sceptical of the breadth of his plans. One commentator said: \"His message is populist & popular\"'}]\n",
            "-----------------------\n",
            "Distill:  [{'summary_text': ' The president-elect\\'s speech bore an eerie similarity to Bane\\'s Bane speech in The Dark Night Rises . The content was pure Trump: the same populist message that resonated throughout the campaign . One democratic strategist called it \"startlingly angry\" Conservatives were more mixed, with some sceptical of the breadth of his plans .'}]\n",
            "-----------------------\n",
            "Google:  [{'summary_text': 'In his first address as commander-in-charge of the world, he spoke of a country whose citizens had too long been ignored by the coastal elite: a country whose citizens had too long been ignored by the coastal elite: a country whose citizens had too long been forgotten by the coastal elite: a country whose people had little to celebrate for struggling families all across our land painted a picture of a broken and damaged country, dotted with rusting-out factories like tombstones, city streets plagued with crime and the gangs, and the drugs that have stolen too many lives and the wealth of the middle class ripped from their homes and then redistributed all across the world: a country whose citizens had little to celebrate for struggling families all across our land painted a picture of a broken and damaged country, dotted with rusting-out factories like tombstones, city streets plagued with gangs, and the drugs that have stolen too many lives and the wealth of the middle class ripped from their homes and then redistributed all across the world: a country whose people had little to celebrate for struggling families all across our land painted a picture of a broken and damaged country, dotted with rusting-out factories like tombstones, city streets plagued with crime and the gangs, and the drugs that have stolen too many lives and the'}]\n",
            "-----------------------\n"
          ]
        }
      ],
      "source": [
        "sample_text = dataset['test'][0]['text']\n",
        "reference_summary = dataset['test'][0]['summary']\n",
        "print(\"Original text: \",sample_text)\n",
        "print(\"-----------------------\")\n",
        "print(\"Original summary: \",reference_summary)\n",
        "print(\"-----------------------\")\n",
        "facebook_summary = facebook_cnn_pipe(sample_text)\n",
        "print(\"Facebook: \", facebook_summary)\n",
        "print(\"-----------------------\")\n",
        "distill_summary = distilbart_pipe(sample_text)\n",
        "print(\"Distill: \", distill_summary)\n",
        "print(\"-----------------------\")\n",
        "google_summary = google_pipe(sample_text)\n",
        "print(\"Google: \", google_summary)\n",
        "print(\"-----------------------\")\n",
        "\n"
      ]
    },
    {
      "cell_type": "markdown",
      "metadata": {
        "id": "N30kwMbSqJmj"
      },
      "source": [
        "# Rouge Score"
      ]
    },
    {
      "cell_type": "code",
      "execution_count": 51,
      "metadata": {
        "colab": {
          "base_uri": "https://localhost:8080/"
        },
        "id": "xDrTD_VLjeNp",
        "outputId": "45271369-5161-49c7-96e6-71bfbd91ffcb"
      },
      "outputs": [
        {
          "output_type": "stream",
          "name": "stdout",
          "text": [
            "{'rouge1': Score(precision=0.1836734693877551, recall=0.391304347826087, fmeasure=0.25), 'rouge2': Score(precision=0.041666666666666664, recall=0.09090909090909091, fmeasure=0.05714285714285715), 'rougeL': Score(precision=0.10204081632653061, recall=0.21739130434782608, fmeasure=0.1388888888888889), 'rougeLsum': Score(precision=0.10204081632653061, recall=0.21739130434782608, fmeasure=0.1388888888888889)}\n",
            "---------------------\n",
            "{'rouge1': Score(precision=0.1509433962264151, recall=0.34782608695652173, fmeasure=0.2105263157894737), 'rouge2': Score(precision=0.0, recall=0.0, fmeasure=0.0), 'rougeL': Score(precision=0.07547169811320754, recall=0.17391304347826086, fmeasure=0.10526315789473685), 'rougeLsum': Score(precision=0.07547169811320754, recall=0.17391304347826086, fmeasure=0.10526315789473685)}\n",
            "---------------------\n",
            "{'rouge1': Score(precision=0.021551724137931036, recall=0.21739130434782608, fmeasure=0.03921568627450981), 'rouge2': Score(precision=0.0, recall=0.0, fmeasure=0.0), 'rougeL': Score(precision=0.01293103448275862, recall=0.13043478260869565, fmeasure=0.023529411764705882), 'rougeLsum': Score(precision=0.01293103448275862, recall=0.13043478260869565, fmeasure=0.023529411764705882)}\n"
          ]
        }
      ],
      "source": [
        "def calculate_rouge(model_summary, reference):\n",
        "  scorer = rouge_scorer.RougeScorer(['rouge1', 'rouge2', 'rougeL', 'rougeLsum'], use_stemmer=True)\n",
        "  return scorer.score(reference, model_summary[0]['summary_text'])\n",
        "\n",
        "facebook_rouge = calculate_rouge(facebook_summary, reference_summary)\n",
        "distill_rouge = calculate_rouge(distill_summary, reference_summary)\n",
        "google_rouge = calculate_rouge(google_summary, reference_summary)\n",
        "print(facebook_rouge)\n",
        "print(\"---------------------\")\n",
        "print(distill_rouge)\n",
        "print(\"---------------------\")\n",
        "print(google_rouge)"
      ]
    },
    {
      "cell_type": "code",
      "execution_count": 52,
      "metadata": {
        "colab": {
          "base_uri": "https://localhost:8080/",
          "height": 564
        },
        "id": "rxZy67YGnRv_",
        "outputId": "f5ea5769-308a-4b94-f51c-1c46bdd91738"
      },
      "outputs": [
        {
          "output_type": "display_data",
          "data": {
            "text/plain": [
              "<Figure size 1000x600 with 1 Axes>"
            ],
            "image/png": "[encoded data removed]"
          },
          "metadata": {}
        }
      ],
      "source": [
        "import matplotlib.pyplot as plt\n",
        "\n",
        "# Assuming you have the scores stored in a list of dictionaries\n",
        "scores = [\n",
        "    facebook_rouge,\n",
        "    distill_rouge,\n",
        "    google_rouge\n",
        "]\n",
        "\n",
        "# Extract F1-scores for each model and metric\n",
        "f1_scores = []\n",
        "for score_dict in scores:\n",
        "    f1_scores.append([score.fmeasure for score in score_dict.values()])\n",
        "\n",
        "# Model names\n",
        "model_names = ['facebook/bart-large-cnn', 'sshleifer/distilbart-cnn-12-6', 'google/bigbird-pegasus-large-bigpatent']  # Replace with actual model names\n",
        "\n",
        "# Create the bar chart\n",
        "x = range(len(model_names))\n",
        "width = 0.2\n",
        "\n",
        "plt.figure(figsize=(10, 6))\n",
        "plt.bar(x, [f1[0] for f1 in f1_scores], width, label='Rouge1')\n",
        "plt.bar([x_i + width for x_i in x], [f1[1] for f1 in f1_scores], width, label='Rouge2')\n",
        "plt.bar([x_i + 2*width for x_i in x], [f1[2] for f1 in f1_scores], width, label='RougeL')\n",
        "plt.bar([x_i + 3*width for x_i in x], [f1[3] for f1 in f1_scores], width, label='RougeLsum')\n",
        "\n",
        "plt.xticks([x_i + 1.5*width for x_i in x], model_names)\n",
        "plt.ylabel('F1-Score')\n",
        "plt.xlabel('Model')\n",
        "plt.title('ROUGE F1-Scores for Different Models')\n",
        "plt.legend()\n",
        "plt.show()"
      ]
    },
    {
      "cell_type": "markdown",
      "metadata": {
        "id": "ZOhG1bGVqFzn"
      },
      "source": [
        "# BERT Score"
      ]
    },
    {
      "cell_type": "code",
      "execution_count": 53,
      "metadata": {
        "id": "R9sogLygi2Zb"
      },
      "outputs": [],
      "source": [
        "def calculate_bert_score(model_summary, reference_summary):\n",
        "  return bert_score([model_summary[0]['summary_text']], [reference_summary], lang=\"en\")[2]"
      ]
    },
    {
      "cell_type": "code",
      "execution_count": 54,
      "metadata": {
        "colab": {
          "base_uri": "https://localhost:8080/"
        },
        "id": "mWJrqNrfjJg6",
        "outputId": "6a1bce13-a477-462b-da8b-45f3e69a6f0a"
      },
      "outputs": [
        {
          "output_type": "stream",
          "name": "stderr",
          "text": [
            "Some weights of RobertaModel were not initialized from the model checkpoint at roberta-large and are newly initialized: ['roberta.pooler.dense.bias', 'roberta.pooler.dense.weight']\n",
            "You should probably TRAIN this model on a down-stream task to be able to use it for predictions and inference.\n",
            "Some weights of RobertaModel were not initialized from the model checkpoint at roberta-large and are newly initialized: ['roberta.pooler.dense.bias', 'roberta.pooler.dense.weight']\n",
            "You should probably TRAIN this model on a down-stream task to be able to use it for predictions and inference.\n",
            "Some weights of RobertaModel were not initialized from the model checkpoint at roberta-large and are newly initialized: ['roberta.pooler.dense.bias', 'roberta.pooler.dense.weight']\n",
            "You should probably TRAIN this model on a down-stream task to be able to use it for predictions and inference.\n"
          ]
        }
      ],
      "source": [
        "bert_facebook = calculate_bert_score(facebook_summary, reference_summary)\n",
        "bert_distill = calculate_bert_score(distill_summary, reference_summary)\n",
        "bert_google = calculate_bert_score(google_summary, reference_summary)"
      ]
    },
    {
      "cell_type": "code",
      "execution_count": 55,
      "metadata": {
        "colab": {
          "base_uri": "https://localhost:8080/"
        },
        "id": "Dw0vhRHIgYge",
        "outputId": "8aae1f16-a2a2-40ac-d0a8-93abb2dc8d55"
      },
      "outputs": [
        {
          "output_type": "stream",
          "name": "stdout",
          "text": [
            "facbook bert:  tensor([0.8593])\n",
            "Distill bert:  tensor([0.8434])\n",
            "Google bert:  tensor([0.7878])\n"
          ]
        }
      ],
      "source": [
        "print(\"facbook bert: \", bert_facebook)\n",
        "print(\"Distill bert: \", bert_distill)\n",
        "print(\"Google bert: \", bert_google)"
      ]
    },
    {
      "cell_type": "code",
      "execution_count": 56,
      "metadata": {
        "colab": {
          "base_uri": "https://localhost:8080/",
          "height": 564
        },
        "id": "bGsVkevloa8a",
        "outputId": "163fc8f0-36e5-4cfe-f1bc-d1f39ef1202b"
      },
      "outputs": [
        {
          "output_type": "display_data",
          "data": {
            "text/plain": [
              "<Figure size 800x600 with 1 Axes>"
            ],
            "image/png": "[encoded data removed]"
          },
          "metadata": {}
        }
      ],
      "source": [
        "import matplotlib.pyplot as plt\n",
        "bert_scores = [\n",
        "    bert_facebook.item(),\n",
        "    bert_distill.item(),\n",
        "    bert_google.item()\n",
        "]\n",
        "model_names = ['Facebook', 'Distill', 'Google']\n",
        "\n",
        "plt.figure(figsize=(8, 6))\n",
        "plt.bar(model_names, bert_scores)\n",
        "plt.xlabel('Model')\n",
        "plt.ylabel('BERT F1-Score')\n",
        "plt.title('BERT F1-Scores for Different Models')\n",
        "plt.show()"
      ]
    },
    {
      "cell_type": "markdown",
      "metadata": {
        "id": "Pap4yp2yqCYh"
      },
      "source": [
        "# Bleu Score"
      ]
    },
    {
      "cell_type": "code",
      "execution_count": 57,
      "metadata": {
        "colab": {
          "base_uri": "https://localhost:8080/"
        },
        "id": "oxlx0Pr_jxwF",
        "outputId": "00f74fef-8952-4b6b-dbbf-6d0767c98b42"
      },
      "outputs": [
        {
          "output_type": "stream",
          "name": "stdout",
          "text": [
            "facbook bleu:  1.052601808414082\n",
            "Distill bleu:  1.0363935070930819\n",
            "Google bleu:  0.20790245444365657\n"
          ]
        }
      ],
      "source": [
        "\n",
        "import evaluate\n",
        "bleu = evaluate.load(\"bleu\")\n",
        "def calculate_bleu_score(model_summary, reference_summary):\n",
        "  return corpus_bleu([model_summary[0]['summary_text']], [[reference_summary]]).score\n",
        "\n",
        "bleu_facebook = calculate_bleu_score(facebook_summary, reference_summary)\n",
        "bleu_distill = calculate_bleu_score(distill_summary, reference_summary)\n",
        "bleu_google = calculate_bleu_score(google_summary, reference_summary)\n",
        "\n",
        "print(\"facbook bleu: \", bleu_facebook)\n",
        "print(\"Distill bleu: \", bleu_distill)\n",
        "print(\"Google bleu: \", bleu_google)"
      ]
    },
    {
      "cell_type": "markdown",
      "metadata": {
        "id": "N5nYLXNK10_X"
      },
      "source": [
        "# Averaging the scores, given multiple rows\n",
        "\n",
        "Only 5 rows from the dataset were used here because I was running out of memory on Google Colab. So 5 were used to be on the safer side."
      ]
    },
    {
      "cell_type": "code",
      "execution_count": 71,
      "metadata": {
        "colab": {
          "base_uri": "https://localhost:8080/"
        },
        "id": "l0Zfn6sw16bU",
        "outputId": "de0cdc68-1c28-4722-f8b1-d22978211077"
      },
      "outputs": [
        {
          "output_type": "stream",
          "name": "stdout",
          "text": [
            "{'rouge1': Score(precision=0.1836734693877551, recall=0.391304347826087, fmeasure=0.25), 'rouge2': Score(precision=0.041666666666666664, recall=0.09090909090909091, fmeasure=0.05714285714285715), 'rougeL': Score(precision=0.10204081632653061, recall=0.21739130434782608, fmeasure=0.1388888888888889), 'rougeLsum': Score(precision=0.10204081632653061, recall=0.21739130434782608, fmeasure=0.1388888888888889)}\n",
            "{'rouge1': Score(precision=0.1509433962264151, recall=0.34782608695652173, fmeasure=0.2105263157894737), 'rouge2': Score(precision=0.0, recall=0.0, fmeasure=0.0), 'rougeL': Score(precision=0.07547169811320754, recall=0.17391304347826086, fmeasure=0.10526315789473685), 'rougeLsum': Score(precision=0.07547169811320754, recall=0.17391304347826086, fmeasure=0.10526315789473685)}\n",
            "{'rouge1': Score(precision=0.15625, recall=0.21739130434782608, fmeasure=0.18181818181818182), 'rouge2': Score(precision=0.03225806451612903, recall=0.045454545454545456, fmeasure=0.03773584905660377), 'rougeL': Score(precision=0.09375, recall=0.13043478260869565, fmeasure=0.10909090909090909), 'rougeLsum': Score(precision=0.09375, recall=0.13043478260869565, fmeasure=0.10909090909090909)}\n"
          ]
        },
        {
          "output_type": "stream",
          "name": "stderr",
          "text": [
            "Some weights of RobertaModel were not initialized from the model checkpoint at roberta-large and are newly initialized: ['roberta.pooler.dense.bias', 'roberta.pooler.dense.weight']\n",
            "You should probably TRAIN this model on a down-stream task to be able to use it for predictions and inference.\n",
            "Some weights of RobertaModel were not initialized from the model checkpoint at roberta-large and are newly initialized: ['roberta.pooler.dense.bias', 'roberta.pooler.dense.weight']\n",
            "You should probably TRAIN this model on a down-stream task to be able to use it for predictions and inference.\n",
            "Some weights of RobertaModel were not initialized from the model checkpoint at roberta-large and are newly initialized: ['roberta.pooler.dense.bias', 'roberta.pooler.dense.weight']\n",
            "You should probably TRAIN this model on a down-stream task to be able to use it for predictions and inference.\n"
          ]
        },
        {
          "output_type": "stream",
          "name": "stdout",
          "text": [
            "tensor([0.8593]) tensor([0.8434]) tensor([0.8457])\n",
            "{'rouge1': Score(precision=0.16393442622950818, recall=0.3448275862068966, fmeasure=0.22222222222222224), 'rouge2': Score(precision=0.0, recall=0.0, fmeasure=0.0), 'rougeL': Score(precision=0.08196721311475409, recall=0.1724137931034483, fmeasure=0.11111111111111112), 'rougeLsum': Score(precision=0.08196721311475409, recall=0.1724137931034483, fmeasure=0.11111111111111112)}\n",
            "{'rouge1': Score(precision=0.26229508196721313, recall=0.5517241379310345, fmeasure=0.35555555555555557), 'rouge2': Score(precision=0.1, recall=0.21428571428571427, fmeasure=0.13636363636363638), 'rougeL': Score(precision=0.13114754098360656, recall=0.27586206896551724, fmeasure=0.17777777777777778), 'rougeLsum': Score(precision=0.13114754098360656, recall=0.27586206896551724, fmeasure=0.17777777777777778)}\n",
            "{'rouge1': Score(precision=0.19047619047619047, recall=0.27586206896551724, fmeasure=0.22535211267605634), 'rouge2': Score(precision=0.024390243902439025, recall=0.03571428571428571, fmeasure=0.028985507246376812), 'rougeL': Score(precision=0.11904761904761904, recall=0.1724137931034483, fmeasure=0.1408450704225352), 'rougeLsum': Score(precision=0.11904761904761904, recall=0.1724137931034483, fmeasure=0.1408450704225352)}\n"
          ]
        },
        {
          "output_type": "stream",
          "name": "stderr",
          "text": [
            "Some weights of RobertaModel were not initialized from the model checkpoint at roberta-large and are newly initialized: ['roberta.pooler.dense.bias', 'roberta.pooler.dense.weight']\n",
            "You should probably TRAIN this model on a down-stream task to be able to use it for predictions and inference.\n",
            "Some weights of RobertaModel were not initialized from the model checkpoint at roberta-large and are newly initialized: ['roberta.pooler.dense.bias', 'roberta.pooler.dense.weight']\n",
            "You should probably TRAIN this model on a down-stream task to be able to use it for predictions and inference.\n",
            "Some weights of RobertaModel were not initialized from the model checkpoint at roberta-large and are newly initialized: ['roberta.pooler.dense.bias', 'roberta.pooler.dense.weight']\n",
            "You should probably TRAIN this model on a down-stream task to be able to use it for predictions and inference.\n"
          ]
        },
        {
          "output_type": "stream",
          "name": "stdout",
          "text": [
            "tensor([0.8621]) tensor([0.8686]) tensor([0.8338])\n",
            "{'rouge1': Score(precision=0.08, recall=0.2222222222222222, fmeasure=0.11764705882352941), 'rouge2': Score(precision=0.0, recall=0.0, fmeasure=0.0), 'rougeL': Score(precision=0.06, recall=0.16666666666666666, fmeasure=0.08823529411764705), 'rougeLsum': Score(precision=0.06, recall=0.16666666666666666, fmeasure=0.08823529411764705)}\n",
            "{'rouge1': Score(precision=0.07894736842105263, recall=0.16666666666666666, fmeasure=0.10714285714285714), 'rouge2': Score(precision=0.0, recall=0.0, fmeasure=0.0), 'rougeL': Score(precision=0.05263157894736842, recall=0.1111111111111111, fmeasure=0.07142857142857142), 'rougeLsum': Score(precision=0.05263157894736842, recall=0.1111111111111111, fmeasure=0.07142857142857142)}\n",
            "{'rouge1': Score(precision=0.1875, recall=0.3333333333333333, fmeasure=0.24000000000000005), 'rouge2': Score(precision=0.03225806451612903, recall=0.058823529411764705, fmeasure=0.041666666666666664), 'rougeL': Score(precision=0.1875, recall=0.3333333333333333, fmeasure=0.24000000000000005), 'rougeLsum': Score(precision=0.1875, recall=0.3333333333333333, fmeasure=0.24000000000000005)}\n"
          ]
        },
        {
          "output_type": "stream",
          "name": "stderr",
          "text": [
            "Some weights of RobertaModel were not initialized from the model checkpoint at roberta-large and are newly initialized: ['roberta.pooler.dense.bias', 'roberta.pooler.dense.weight']\n",
            "You should probably TRAIN this model on a down-stream task to be able to use it for predictions and inference.\n",
            "Some weights of RobertaModel were not initialized from the model checkpoint at roberta-large and are newly initialized: ['roberta.pooler.dense.bias', 'roberta.pooler.dense.weight']\n",
            "You should probably TRAIN this model on a down-stream task to be able to use it for predictions and inference.\n",
            "Some weights of RobertaModel were not initialized from the model checkpoint at roberta-large and are newly initialized: ['roberta.pooler.dense.bias', 'roberta.pooler.dense.weight']\n",
            "You should probably TRAIN this model on a down-stream task to be able to use it for predictions and inference.\n"
          ]
        },
        {
          "output_type": "stream",
          "name": "stdout",
          "text": [
            "tensor([0.8489]) tensor([0.8341]) tensor([0.8863])\n",
            "{'rouge1': Score(precision=0.22641509433962265, recall=0.5, fmeasure=0.31168831168831174), 'rouge2': Score(precision=0.038461538461538464, recall=0.08695652173913043, fmeasure=0.05333333333333333), 'rougeL': Score(precision=0.1320754716981132, recall=0.2916666666666667, fmeasure=0.18181818181818182), 'rougeLsum': Score(precision=0.1320754716981132, recall=0.2916666666666667, fmeasure=0.18181818181818182)}\n",
            "{'rouge1': Score(precision=0.22641509433962265, recall=0.5, fmeasure=0.31168831168831174), 'rouge2': Score(precision=0.07692307692307693, recall=0.17391304347826086, fmeasure=0.10666666666666666), 'rougeL': Score(precision=0.1320754716981132, recall=0.2916666666666667, fmeasure=0.18181818181818182), 'rougeLsum': Score(precision=0.1320754716981132, recall=0.2916666666666667, fmeasure=0.18181818181818182)}\n",
            "{'rouge1': Score(precision=0.1368421052631579, recall=0.5416666666666666, fmeasure=0.2184873949579832), 'rouge2': Score(precision=0.0, recall=0.0, fmeasure=0.0), 'rougeL': Score(precision=0.08421052631578947, recall=0.3333333333333333, fmeasure=0.13445378151260504), 'rougeLsum': Score(precision=0.08421052631578947, recall=0.3333333333333333, fmeasure=0.13445378151260504)}\n"
          ]
        },
        {
          "output_type": "stream",
          "name": "stderr",
          "text": [
            "Some weights of RobertaModel were not initialized from the model checkpoint at roberta-large and are newly initialized: ['roberta.pooler.dense.bias', 'roberta.pooler.dense.weight']\n",
            "You should probably TRAIN this model on a down-stream task to be able to use it for predictions and inference.\n",
            "Some weights of RobertaModel were not initialized from the model checkpoint at roberta-large and are newly initialized: ['roberta.pooler.dense.bias', 'roberta.pooler.dense.weight']\n",
            "You should probably TRAIN this model on a down-stream task to be able to use it for predictions and inference.\n",
            "Some weights of RobertaModel were not initialized from the model checkpoint at roberta-large and are newly initialized: ['roberta.pooler.dense.bias', 'roberta.pooler.dense.weight']\n",
            "You should probably TRAIN this model on a down-stream task to be able to use it for predictions and inference.\n"
          ]
        },
        {
          "output_type": "stream",
          "name": "stdout",
          "text": [
            "tensor([0.8690]) tensor([0.8638]) tensor([0.8490])\n",
            "{'rouge1': Score(precision=0.14035087719298245, recall=0.26666666666666666, fmeasure=0.1839080459770115), 'rouge2': Score(precision=0.03571428571428571, recall=0.06896551724137931, fmeasure=0.047058823529411764), 'rougeL': Score(precision=0.08771929824561403, recall=0.16666666666666666, fmeasure=0.11494252873563217), 'rougeLsum': Score(precision=0.08771929824561403, recall=0.16666666666666666, fmeasure=0.11494252873563217)}\n",
            "{'rouge1': Score(precision=0.15384615384615385, recall=0.26666666666666666, fmeasure=0.1951219512195122), 'rouge2': Score(precision=0.0196078431372549, recall=0.034482758620689655, fmeasure=0.025), 'rougeL': Score(precision=0.1346153846153846, recall=0.23333333333333334, fmeasure=0.17073170731707316), 'rougeLsum': Score(precision=0.1346153846153846, recall=0.23333333333333334, fmeasure=0.17073170731707316)}\n",
            "{'rouge1': Score(precision=0.06976744186046512, recall=0.2, fmeasure=0.10344827586206895), 'rouge2': Score(precision=0.0, recall=0.0, fmeasure=0.0), 'rougeL': Score(precision=0.06976744186046512, recall=0.2, fmeasure=0.10344827586206895), 'rougeLsum': Score(precision=0.06976744186046512, recall=0.2, fmeasure=0.10344827586206895)}\n"
          ]
        },
        {
          "output_type": "stream",
          "name": "stderr",
          "text": [
            "Some weights of RobertaModel were not initialized from the model checkpoint at roberta-large and are newly initialized: ['roberta.pooler.dense.bias', 'roberta.pooler.dense.weight']\n",
            "You should probably TRAIN this model on a down-stream task to be able to use it for predictions and inference.\n",
            "Some weights of RobertaModel were not initialized from the model checkpoint at roberta-large and are newly initialized: ['roberta.pooler.dense.bias', 'roberta.pooler.dense.weight']\n",
            "You should probably TRAIN this model on a down-stream task to be able to use it for predictions and inference.\n",
            "Some weights of RobertaModel were not initialized from the model checkpoint at roberta-large and are newly initialized: ['roberta.pooler.dense.bias', 'roberta.pooler.dense.weight']\n",
            "You should probably TRAIN this model on a down-stream task to be able to use it for predictions and inference.\n"
          ]
        },
        {
          "output_type": "stream",
          "name": "stdout",
          "text": [
            "tensor([0.8483]) tensor([0.8578]) tensor([0.8060])\n"
          ]
        }
      ],
      "source": [
        "table = []\n",
        "for i in range(5):\n",
        "    sample_text = dataset['test'][i]['text']\n",
        "    reference_summary = dataset['test'][i]['summary']\n",
        "\n",
        "    facebook_summary = facebook_cnn_pipe(sample_text)\n",
        "    distill_summary = distilbart_pipe(sample_text)\n",
        "    google_summary = google_pipe(sample_text)\n",
        "\n",
        "    facebook_rouge = calculate_rouge(facebook_summary, reference_summary)\n",
        "    distill_rouge = calculate_rouge(distill_summary, reference_summary)\n",
        "    google_rouge = calculate_rouge(google_summary, reference_summary)\n",
        "    print(facebook_rouge)\n",
        "    print(distill_rouge)\n",
        "    print(google_rouge)\n",
        "    bert_facebook = calculate_bert_score(facebook_summary, reference_summary)\n",
        "    bert_distill = calculate_bert_score(distill_summary, reference_summary)\n",
        "    bert_google = calculate_bert_score(google_summary, reference_summary)\n",
        "    print(bert_facebook, bert_distill, bert_google)\n",
        "    # result.append([facebook_rouge, distill_rouge, google_rouge])\n",
        "    table.append({\n",
        "        'Model': 'Facebook',\n",
        "        'ROUGE-1': facebook_rouge['rouge1'].fmeasure,\n",
        "        'ROUGE-2': facebook_rouge['rouge2'].fmeasure,\n",
        "        'ROUGE-L': facebook_rouge['rougeL'].fmeasure,\n",
        "        'BERTScore F1': bert_facebook,\n",
        "    })\n",
        "    table.append({\n",
        "        'Model': 'Distill',\n",
        "        'ROUGE-1': distill_rouge['rouge1'].fmeasure,\n",
        "        'ROUGE-2': distill_rouge['rouge2'].fmeasure,\n",
        "        'ROUGE-L': distill_rouge['rougeL'].fmeasure,\n",
        "        'BERTScore F1': bert_distill,\n",
        "    })\n",
        "    table.append({\n",
        "        'Model': 'Google',\n",
        "        'ROUGE-1': google_rouge['rouge1'].fmeasure,\n",
        "        'ROUGE-2': google_rouge['rouge2'].fmeasure,\n",
        "        'ROUGE-L': google_rouge['rougeL'].fmeasure,\n",
        "        'BERTScore F1': bert_google,\n",
        "    })"
      ]
    },
    {
      "cell_type": "code",
      "execution_count": 72,
      "metadata": {
        "colab": {
          "base_uri": "https://localhost:8080/",
          "height": 520
        },
        "id": "ArcVqWPj_loi",
        "outputId": "8634c6fc-3d43-4b03-f17b-b714d3ab5e4f"
      },
      "outputs": [
        {
          "output_type": "execute_result",
          "data": {
            "text/plain": [
              "       Model   ROUGE-1   ROUGE-2   ROUGE-L      BERTScore F1\n",
              "0   Facebook  0.250000  0.057143  0.138889  [tensor(0.8593)]\n",
              "1    Distill  0.210526  0.000000  0.105263  [tensor(0.8434)]\n",
              "2     Google  0.181818  0.037736  0.109091  [tensor(0.8457)]\n",
              "3   Facebook  0.222222  0.000000  0.111111  [tensor(0.8621)]\n",
              "4    Distill  0.355556  0.136364  0.177778  [tensor(0.8686)]\n",
              "5     Google  0.225352  0.028986  0.140845  [tensor(0.8338)]\n",
              "6   Facebook  0.117647  0.000000  0.088235  [tensor(0.8489)]\n",
              "7    Distill  0.107143  0.000000  0.071429  [tensor(0.8341)]\n",
              "8     Google  0.240000  0.041667  0.240000  [tensor(0.8863)]\n",
              "9   Facebook  0.311688  0.053333  0.181818  [tensor(0.8690)]\n",
              "10   Distill  0.311688  0.106667  0.181818  [tensor(0.8638)]\n",
              "11    Google  0.218487  0.000000  0.134454  [tensor(0.8490)]\n",
              "12  Facebook  0.183908  0.047059  0.114943  [tensor(0.8483)]\n",
              "13   Distill  0.195122  0.025000  0.170732  [tensor(0.8578)]\n",
              "14    Google  0.103448  0.000000  0.103448  [tensor(0.8060)]"
            ],
            "text/html": [
              "\n",
              "  <div id=\"df-3ff3485a-2f60-4c4a-9dbc-2215faa27815\" class=\"colab-df-container\">\n",
              "    <div>\n",
              "<style scoped>\n",
              "    .dataframe tbody tr th:only-of-type {\n",
              "        vertical-align: middle;\n",
              "    }\n",
              "\n",
              "    .dataframe tbody tr th {\n",
              "        vertical-align: top;\n",
              "    }\n",
              "\n",
              "    .dataframe thead th {\n",
              "        text-align: right;\n",
              "    }\n",
              "</style>\n",
              "<table border=\"1\" class=\"dataframe\">\n",
              "  <thead>\n",
              "    <tr style=\"text-align: right;\">\n",
              "      <th></th>\n",
              "      <th>Model</th>\n",
              "      <th>ROUGE-1</th>\n",
              "      <th>ROUGE-2</th>\n",
              "      <th>ROUGE-L</th>\n",
              "      <th>BERTScore F1</th>\n",
              "    </tr>\n",
              "  </thead>\n",
              "  <tbody>\n",
              "    <tr>\n",
              "      <th>0</th>\n",
              "      <td>Facebook</td>\n",
              "      <td>0.250000</td>\n",
              "      <td>0.057143</td>\n",
              "      <td>0.138889</td>\n",
              "      <td>[tensor(0.8593)]</td>\n",
              "    </tr>\n",
              "    <tr>\n",
              "      <th>1</th>\n",
              "      <td>Distill</td>\n",
              "      <td>0.210526</td>\n",
              "      <td>0.000000</td>\n",
              "      <td>0.105263</td>\n",
              "      <td>[tensor(0.8434)]</td>\n",
              "    </tr>\n",
              "    <tr>\n",
              "      <th>2</th>\n",
              "      <td>Google</td>\n",
              "      <td>0.181818</td>\n",
              "      <td>0.037736</td>\n",
              "      <td>0.109091</td>\n",
              "      <td>[tensor(0.8457)]</td>\n",
              "    </tr>\n",
              "    <tr>\n",
              "      <th>3</th>\n",
              "      <td>Facebook</td>\n",
              "      <td>0.222222</td>\n",
              "      <td>0.000000</td>\n",
              "      <td>0.111111</td>\n",
              "      <td>[tensor(0.8621)]</td>\n",
              "    </tr>\n",
              "    <tr>\n",
              "      <th>4</th>\n",
              "      <td>Distill</td>\n",
              "      <td>0.355556</td>\n",
              "      <td>0.136364</td>\n",
              "      <td>0.177778</td>\n",
              "      <td>[tensor(0.8686)]</td>\n",
              "    </tr>\n",
              "    <tr>\n",
              "      <th>5</th>\n",
              "      <td>Google</td>\n",
              "      <td>0.225352</td>\n",
              "      <td>0.028986</td>\n",
              "      <td>0.140845</td>\n",
              "      <td>[tensor(0.8338)]</td>\n",
              "    </tr>\n",
              "    <tr>\n",
              "      <th>6</th>\n",
              "      <td>Facebook</td>\n",
              "      <td>0.117647</td>\n",
              "      <td>0.000000</td>\n",
              "      <td>0.088235</td>\n",
              "      <td>[tensor(0.8489)]</td>\n",
              "    </tr>\n",
              "    <tr>\n",
              "      <th>7</th>\n",
              "      <td>Distill</td>\n",
              "      <td>0.107143</td>\n",
              "      <td>0.000000</td>\n",
              "      <td>0.071429</td>\n",
              "      <td>[tensor(0.8341)]</td>\n",
              "    </tr>\n",
              "    <tr>\n",
              "      <th>8</th>\n",
              "      <td>Google</td>\n",
              "      <td>0.240000</td>\n",
              "      <td>0.041667</td>\n",
              "      <td>0.240000</td>\n",
              "      <td>[tensor(0.8863)]</td>\n",
              "    </tr>\n",
              "    <tr>\n",
              "      <th>9</th>\n",
              "      <td>Facebook</td>\n",
              "      <td>0.311688</td>\n",
              "      <td>0.053333</td>\n",
              "      <td>0.181818</td>\n",
              "      <td>[tensor(0.8690)]</td>\n",
              "    </tr>\n",
              "    <tr>\n",
              "      <th>10</th>\n",
              "      <td>Distill</td>\n",
              "      <td>0.311688</td>\n",
              "      <td>0.106667</td>\n",
              "      <td>0.181818</td>\n",
              "      <td>[tensor(0.8638)]</td>\n",
              "    </tr>\n",
              "    <tr>\n",
              "      <th>11</th>\n",
              "      <td>Google</td>\n",
              "      <td>0.218487</td>\n",
              "      <td>0.000000</td>\n",
              "      <td>0.134454</td>\n",
              "      <td>[tensor(0.8490)]</td>\n",
              "    </tr>\n",
              "    <tr>\n",
              "      <th>12</th>\n",
              "      <td>Facebook</td>\n",
              "      <td>0.183908</td>\n",
              "      <td>0.047059</td>\n",
              "      <td>0.114943</td>\n",
              "      <td>[tensor(0.8483)]</td>\n",
              "    </tr>\n",
              "    <tr>\n",
              "      <th>13</th>\n",
              "      <td>Distill</td>\n",
              "      <td>0.195122</td>\n",
              "      <td>0.025000</td>\n",
              "      <td>0.170732</td>\n",
              "      <td>[tensor(0.8578)]</td>\n",
              "    </tr>\n",
              "    <tr>\n",
              "      <th>14</th>\n",
              "      <td>Google</td>\n",
              "      <td>0.103448</td>\n",
              "      <td>0.000000</td>\n",
              "      <td>0.103448</td>\n",
              "      <td>[tensor(0.8060)]</td>\n",
              "    </tr>\n",
              "  </tbody>\n",
              "</table>\n",
              "</div>\n",
              "    <div class=\"colab-df-buttons\">\n",
              "\n",
              "  <div class=\"colab-df-container\">\n",
              "    <button class=\"colab-df-convert\" onclick=\"convertToInteractive('df-3ff3485a-2f60-4c4a-9dbc-2215faa27815')\"\n",
              "            title=\"Convert this dataframe to an interactive table.\"\n",
              "            style=\"display:none;\">\n",
              "\n",
              "  <svg xmlns=\"http://www.w3.org/2000/svg\" height=\"24px\" viewBox=\"0 -960 960 960\">\n",
              "    <path d=\"M120-120v-720h720v720H120Zm60-500h600v-160H180v160Zm220 220h160v-160H400v160Zm0 220h160v-160H400v160ZM180-400h160v-160H180v160Zm440 0h160v-160H620v160ZM180-180h160v-160H180v160Zm440 0h160v-160H620v160Z\"/>\n",
              "  </svg>\n",
              "    </button>\n",
              "\n",
              "  <style>\n",
              "    .colab-df-container {\n",
              "      display:flex;\n",
              "      gap: 12px;\n",
              "    }\n",
              "\n",
              "    .colab-df-convert {\n",
              "      background-color: #E8F0FE;\n",
              "      border: none;\n",
              "      border-radius: 50%;\n",
              "      cursor: pointer;\n",
              "      display: none;\n",
              "      fill: #1967D2;\n",
              "      height: 32px;\n",
              "      padding: 0 0 0 0;\n",
              "      width: 32px;\n",
              "    }\n",
              "\n",
              "    .colab-df-convert:hover {\n",
              "      background-color: #E2EBFA;\n",
              "      box-shadow: 0px 1px 2px rgba(60, 64, 67, 0.3), 0px 1px 3px 1px rgba(60, 64, 67, 0.15);\n",
              "      fill: #174EA6;\n",
              "    }\n",
              "\n",
              "    .colab-df-buttons div {\n",
              "      margin-bottom: 4px;\n",
              "    }\n",
              "\n",
              "    [theme=dark] .colab-df-convert {\n",
              "      background-color: #3B4455;\n",
              "      fill: #D2E3FC;\n",
              "    }\n",
              "\n",
              "    [theme=dark] .colab-df-convert:hover {\n",
              "      background-color: #434B5C;\n",
              "      box-shadow: 0px 1px 3px 1px rgba(0, 0, 0, 0.15);\n",
              "      filter: drop-shadow(0px 1px 2px rgba(0, 0, 0, 0.3));\n",
              "      fill: #FFFFFF;\n",
              "    }\n",
              "  </style>\n",
              "\n",
              "    <script>\n",
              "      const buttonEl =\n",
              "        document.querySelector('#df-3ff3485a-2f60-4c4a-9dbc-2215faa27815 button.colab-df-convert');\n",
              "      buttonEl.style.display =\n",
              "        google.colab.kernel.accessAllowed ? 'block' : 'none';\n",
              "\n",
              "      async function convertToInteractive(key) {\n",
              "        const element = document.querySelector('#df-3ff3485a-2f60-4c4a-9dbc-2215faa27815');\n",
              "        const dataTable =\n",
              "          await google.colab.kernel.invokeFunction('convertToInteractive',\n",
              "                                                    [key], {});\n",
              "        if (!dataTable) return;\n",
              "\n",
              "        const docLinkHtml = 'Like what you see? Visit the ' +\n",
              "          '<a target=\"_blank\" href=https://colab.research.google.com/notebooks/data_table.ipynb>data table notebook</a>'\n",
              "          + ' to learn more about interactive tables.';\n",
              "        element.innerHTML = '';\n",
              "        dataTable['output_type'] = 'display_data';\n",
              "        await google.colab.output.renderOutput(dataTable, element);\n",
              "        const docLink = document.createElement('div');\n",
              "        docLink.innerHTML = docLinkHtml;\n",
              "        element.appendChild(docLink);\n",
              "      }\n",
              "    </script>\n",
              "  </div>\n",
              "\n",
              "\n",
              "<div id=\"df-fe346f27-29c9-4952-a76e-ed6fe65cf6e9\">\n",
              "  <button class=\"colab-df-quickchart\" onclick=\"quickchart('df-fe346f27-29c9-4952-a76e-ed6fe65cf6e9')\"\n",
              "            title=\"Suggest charts\"\n",
              "            style=\"display:none;\">\n",
              "\n",
              "<svg xmlns=\"http://www.w3.org/2000/svg\" height=\"24px\"viewBox=\"0 0 24 24\"\n",
              "     width=\"24px\">\n",
              "    <g>\n",
              "        <path d=\"M19 3H5c-1.1 0-2 .9-2 2v14c0 1.1.9 2 2 2h14c1.1 0 2-.9 2-2V5c0-1.1-.9-2-2-2zM9 17H7v-7h2v7zm4 0h-2V7h2v10zm4 0h-2v-4h2v4z\"/>\n",
              "    </g>\n",
              "</svg>\n",
              "  </button>\n",
              "\n",
              "<style>\n",
              "  .colab-df-quickchart {\n",
              "      --bg-color: #E8F0FE;\n",
              "      --fill-color: #1967D2;\n",
              "      --hover-bg-color: #E2EBFA;\n",
              "      --hover-fill-color: #174EA6;\n",
              "      --disabled-fill-color: #AAA;\n",
              "      --disabled-bg-color: #DDD;\n",
              "  }\n",
              "\n",
              "  [theme=dark] .colab-df-quickchart {\n",
              "      --bg-color: #3B4455;\n",
              "      --fill-color: #D2E3FC;\n",
              "      --hover-bg-color: #434B5C;\n",
              "      --hover-fill-color: #FFFFFF;\n",
              "      --disabled-bg-color: #3B4455;\n",
              "      --disabled-fill-color: #666;\n",
              "  }\n",
              "\n",
              "  .colab-df-quickchart {\n",
              "    background-color: var(--bg-color);\n",
              "    border: none;\n",
              "    border-radius: 50%;\n",
              "    cursor: pointer;\n",
              "    display: none;\n",
              "    fill: var(--fill-color);\n",
              "    height: 32px;\n",
              "    padding: 0;\n",
              "    width: 32px;\n",
              "  }\n",
              "\n",
              "  .colab-df-quickchart:hover {\n",
              "    background-color: var(--hover-bg-color);\n",
              "    box-shadow: 0 1px 2px rgba(60, 64, 67, 0.3), 0 1px 3px 1px rgba(60, 64, 67, 0.15);\n",
              "    fill: var(--button-hover-fill-color);\n",
              "  }\n",
              "\n",
              "  .colab-df-quickchart-complete:disabled,\n",
              "  .colab-df-quickchart-complete:disabled:hover {\n",
              "    background-color: var(--disabled-bg-color);\n",
              "    fill: var(--disabled-fill-color);\n",
              "    box-shadow: none;\n",
              "  }\n",
              "\n",
              "  .colab-df-spinner {\n",
              "    border: 2px solid var(--fill-color);\n",
              "    border-color: transparent;\n",
              "    border-bottom-color: var(--fill-color);\n",
              "    animation:\n",
              "      spin 1s steps(1) infinite;\n",
              "  }\n",
              "\n",
              "  @keyframes spin {\n",
              "    0% {\n",
              "      border-color: transparent;\n",
              "      border-bottom-color: var(--fill-color);\n",
              "      border-left-color: var(--fill-color);\n",
              "    }\n",
              "    20% {\n",
              "      border-color: transparent;\n",
              "      border-left-color: var(--fill-color);\n",
              "      border-top-color: var(--fill-color);\n",
              "    }\n",
              "    30% {\n",
              "      border-color: transparent;\n",
              "      border-left-color: var(--fill-color);\n",
              "      border-top-color: var(--fill-color);\n",
              "      border-right-color: var(--fill-color);\n",
              "    }\n",
              "    40% {\n",
              "      border-color: transparent;\n",
              "      border-right-color: var(--fill-color);\n",
              "      border-top-color: var(--fill-color);\n",
              "    }\n",
              "    60% {\n",
              "      border-color: transparent;\n",
              "      border-right-color: var(--fill-color);\n",
              "    }\n",
              "    80% {\n",
              "      border-color: transparent;\n",
              "      border-right-color: var(--fill-color);\n",
              "      border-bottom-color: var(--fill-color);\n",
              "    }\n",
              "    90% {\n",
              "      border-color: transparent;\n",
              "      border-bottom-color: var(--fill-color);\n",
              "    }\n",
              "  }\n",
              "</style>\n",
              "\n",
              "  <script>\n",
              "    async function quickchart(key) {\n",
              "      const quickchartButtonEl =\n",
              "        document.querySelector('#' + key + ' button');\n",
              "      quickchartButtonEl.disabled = true;  // To prevent multiple clicks.\n",
              "      quickchartButtonEl.classList.add('colab-df-spinner');\n",
              "      try {\n",
              "        const charts = await google.colab.kernel.invokeFunction(\n",
              "            'suggestCharts', [key], {});\n",
              "      } catch (error) {\n",
              "        console.error('Error during call to suggestCharts:', error);\n",
              "      }\n",
              "      quickchartButtonEl.classList.remove('colab-df-spinner');\n",
              "      quickchartButtonEl.classList.add('colab-df-quickchart-complete');\n",
              "    }\n",
              "    (() => {\n",
              "      let quickchartButtonEl =\n",
              "        document.querySelector('#df-fe346f27-29c9-4952-a76e-ed6fe65cf6e9 button');\n",
              "      quickchartButtonEl.style.display =\n",
              "        google.colab.kernel.accessAllowed ? 'block' : 'none';\n",
              "    })();\n",
              "  </script>\n",
              "</div>\n",
              "\n",
              "  <div id=\"id_0e31ad3e-72c7-4bd7-8ddc-e125a81df7a6\">\n",
              "    <style>\n",
              "      .colab-df-generate {\n",
              "        background-color: #E8F0FE;\n",
              "        border: none;\n",
              "        border-radius: 50%;\n",
              "        cursor: pointer;\n",
              "        display: none;\n",
              "        fill: #1967D2;\n",
              "        height: 32px;\n",
              "        padding: 0 0 0 0;\n",
              "        width: 32px;\n",
              "      }\n",
              "\n",
              "      .colab-df-generate:hover {\n",
              "        background-color: #E2EBFA;\n",
              "        box-shadow: 0px 1px 2px rgba(60, 64, 67, 0.3), 0px 1px 3px 1px rgba(60, 64, 67, 0.15);\n",
              "        fill: #174EA6;\n",
              "      }\n",
              "\n",
              "      [theme=dark] .colab-df-generate {\n",
              "        background-color: #3B4455;\n",
              "        fill: #D2E3FC;\n",
              "      }\n",
              "\n",
              "      [theme=dark] .colab-df-generate:hover {\n",
              "        background-color: #434B5C;\n",
              "        box-shadow: 0px 1px 3px 1px rgba(0, 0, 0, 0.15);\n",
              "        filter: drop-shadow(0px 1px 2px rgba(0, 0, 0, 0.3));\n",
              "        fill: #FFFFFF;\n",
              "      }\n",
              "    </style>\n",
              "    <button class=\"colab-df-generate\" onclick=\"generateWithVariable('df')\"\n",
              "            title=\"Generate code using this dataframe.\"\n",
              "            style=\"display:none;\">\n",
              "\n",
              "  <svg xmlns=\"http://www.w3.org/2000/svg\" height=\"24px\"viewBox=\"0 0 24 24\"\n",
              "       width=\"24px\">\n",
              "    <path d=\"M7,19H8.4L18.45,9,17,7.55,7,17.6ZM5,21V16.75L18.45,3.32a2,2,0,0,1,2.83,0l1.4,1.43a1.91,1.91,0,0,1,.58,1.4,1.91,1.91,0,0,1-.58,1.4L9.25,21ZM18.45,9,17,7.55Zm-12,3A5.31,5.31,0,0,0,4.9,8.1,5.31,5.31,0,0,0,1,6.5,5.31,5.31,0,0,0,4.9,4.9,5.31,5.31,0,0,0,6.5,1,5.31,5.31,0,0,0,8.1,4.9,5.31,5.31,0,0,0,12,6.5,5.46,5.46,0,0,0,6.5,12Z\"/>\n",
              "  </svg>\n",
              "    </button>\n",
              "    <script>\n",
              "      (() => {\n",
              "      const buttonEl =\n",
              "        document.querySelector('#id_0e31ad3e-72c7-4bd7-8ddc-e125a81df7a6 button.colab-df-generate');\n",
              "      buttonEl.style.display =\n",
              "        google.colab.kernel.accessAllowed ? 'block' : 'none';\n",
              "\n",
              "      buttonEl.onclick = () => {\n",
              "        google.colab.notebook.generateWithVariable('df');\n",
              "      }\n",
              "      })();\n",
              "    </script>\n",
              "  </div>\n",
              "\n",
              "    </div>\n",
              "  </div>\n"
            ],
            "application/vnd.google.colaboratory.intrinsic+json": {
              "type": "dataframe",
              "variable_name": "df",
              "summary": "{\n  \"name\": \"df\",\n  \"rows\": 15,\n  \"fields\": [\n    {\n      \"column\": \"Model\",\n      \"properties\": {\n        \"dtype\": \"category\",\n        \"num_unique_values\": 3,\n        \"samples\": [\n          \"Facebook\",\n          \"Distill\",\n          \"Google\"\n        ],\n        \"semantic_type\": \"\",\n        \"description\": \"\"\n      }\n    },\n    {\n      \"column\": \"ROUGE-1\",\n      \"properties\": {\n        \"dtype\": \"number\",\n        \"std\": 0.0739236568343877,\n        \"min\": 0.10344827586206895,\n        \"max\": 0.35555555555555557,\n        \"num_unique_values\": 14,\n        \"samples\": [\n          0.31168831168831174,\n          0.1839080459770115,\n          0.25\n        ],\n        \"semantic_type\": \"\",\n        \"description\": \"\"\n      }\n    },\n    {\n      \"column\": \"ROUGE-2\",\n      \"properties\": {\n        \"dtype\": \"number\",\n        \"std\": 0.04133079933456943,\n        \"min\": 0.0,\n        \"max\": 0.13636363636363638,\n        \"num_unique_values\": 10,\n        \"samples\": [\n          0.047058823529411764,\n          0.0,\n          0.041666666666666664\n        ],\n        \"semantic_type\": \"\",\n        \"description\": \"\"\n      }\n    },\n    {\n      \"column\": \"ROUGE-L\",\n      \"properties\": {\n        \"dtype\": \"number\",\n        \"std\": 0.04486755075992991,\n        \"min\": 0.07142857142857142,\n        \"max\": 0.24000000000000005,\n        \"num_unique_values\": 14,\n        \"samples\": [\n          0.18181818181818182,\n          0.11494252873563217,\n          0.1388888888888889\n        ],\n        \"semantic_type\": \"\",\n        \"description\": \"\"\n      }\n    },\n    {\n      \"column\": \"BERTScore F1\",\n      \"properties\": {\n        \"dtype\": \"string\",\n        \"num_unique_values\": 15,\n        \"samples\": [\n          \"tensor([0.8690])\",\n          \"tensor([0.8490])\",\n          \"tensor([0.8593])\"\n        ],\n        \"semantic_type\": \"\",\n        \"description\": \"\"\n      }\n    }\n  ]\n}"
            }
          },
          "metadata": {},
          "execution_count": 72
        }
      ],
      "source": [
        "import pandas as pd\n",
        "df = pd.DataFrame(table)\n",
        "df"
      ]
    },
    {
      "cell_type": "code",
      "source": [
        "df['BERTScore F1'] = df['BERTScore F1'].apply(lambda x: x.item())\n",
        "df"
      ],
      "metadata": {
        "colab": {
          "base_uri": "https://localhost:8080/",
          "height": 520
        },
        "id": "xzLSdbRGnDU7",
        "outputId": "6099dba1-c9dc-4b8f-bf1e-8333a37e3619"
      },
      "execution_count": 70,
      "outputs": [
        {
          "output_type": "execute_result",
          "data": {
            "text/plain": [
              "       Model   ROUGE-1   ROUGE-2   ROUGE-L  BERTScore F1\n",
              "0   Facebook  0.250000  0.057143  0.138889      0.859308\n",
              "1    Distill  0.210526  0.000000  0.105263      0.843363\n",
              "2     Google  0.039216  0.000000  0.023529      0.787774\n",
              "3   Facebook  0.222222  0.000000  0.111111      0.862120\n",
              "4    Distill  0.355556  0.136364  0.177778      0.868588\n",
              "5     Google  0.225352  0.028986  0.140845      0.833810\n",
              "6   Facebook  0.117647  0.000000  0.088235      0.848928\n",
              "7    Distill  0.107143  0.000000  0.071429      0.834085\n",
              "8     Google  0.240000  0.041667  0.240000      0.886276\n",
              "9   Facebook  0.311688  0.053333  0.181818      0.868959\n",
              "10   Distill  0.311688  0.106667  0.181818      0.863792\n",
              "11    Google  0.218487  0.000000  0.134454      0.849014\n",
              "12  Facebook  0.183908  0.047059  0.114943      0.848282\n",
              "13   Distill  0.195122  0.025000  0.170732      0.857838\n",
              "14    Google  0.103448  0.000000  0.103448      0.805967"
            ],
            "text/html": [
              "\n",
              "  <div id=\"df-0c3ec343-a2b9-4cea-83c3-3ce561750ec5\" class=\"colab-df-container\">\n",
              "    <div>\n",
              "<style scoped>\n",
              "    .dataframe tbody tr th:only-of-type {\n",
              "        vertical-align: middle;\n",
              "    }\n",
              "\n",
              "    .dataframe tbody tr th {\n",
              "        vertical-align: top;\n",
              "    }\n",
              "\n",
              "    .dataframe thead th {\n",
              "        text-align: right;\n",
              "    }\n",
              "</style>\n",
              "<table border=\"1\" class=\"dataframe\">\n",
              "  <thead>\n",
              "    <tr style=\"text-align: right;\">\n",
              "      <th></th>\n",
              "      <th>Model</th>\n",
              "      <th>ROUGE-1</th>\n",
              "      <th>ROUGE-2</th>\n",
              "      <th>ROUGE-L</th>\n",
              "      <th>BERTScore F1</th>\n",
              "    </tr>\n",
              "  </thead>\n",
              "  <tbody>\n",
              "    <tr>\n",
              "      <th>0</th>\n",
              "      <td>Facebook</td>\n",
              "      <td>0.250000</td>\n",
              "      <td>0.057143</td>\n",
              "      <td>0.138889</td>\n",
              "      <td>0.859308</td>\n",
              "    </tr>\n",
              "    <tr>\n",
              "      <th>1</th>\n",
              "      <td>Distill</td>\n",
              "      <td>0.210526</td>\n",
              "      <td>0.000000</td>\n",
              "      <td>0.105263</td>\n",
              "      <td>0.843363</td>\n",
              "    </tr>\n",
              "    <tr>\n",
              "      <th>2</th>\n",
              "      <td>Google</td>\n",
              "      <td>0.039216</td>\n",
              "      <td>0.000000</td>\n",
              "      <td>0.023529</td>\n",
              "      <td>0.787774</td>\n",
              "    </tr>\n",
              "    <tr>\n",
              "      <th>3</th>\n",
              "      <td>Facebook</td>\n",
              "      <td>0.222222</td>\n",
              "      <td>0.000000</td>\n",
              "      <td>0.111111</td>\n",
              "      <td>0.862120</td>\n",
              "    </tr>\n",
              "    <tr>\n",
              "      <th>4</th>\n",
              "      <td>Distill</td>\n",
              "      <td>0.355556</td>\n",
              "      <td>0.136364</td>\n",
              "      <td>0.177778</td>\n",
              "      <td>0.868588</td>\n",
              "    </tr>\n",
              "    <tr>\n",
              "      <th>5</th>\n",
              "      <td>Google</td>\n",
              "      <td>0.225352</td>\n",
              "      <td>0.028986</td>\n",
              "      <td>0.140845</td>\n",
              "      <td>0.833810</td>\n",
              "    </tr>\n",
              "    <tr>\n",
              "      <th>6</th>\n",
              "      <td>Facebook</td>\n",
              "      <td>0.117647</td>\n",
              "      <td>0.000000</td>\n",
              "      <td>0.088235</td>\n",
              "      <td>0.848928</td>\n",
              "    </tr>\n",
              "    <tr>\n",
              "      <th>7</th>\n",
              "      <td>Distill</td>\n",
              "      <td>0.107143</td>\n",
              "      <td>0.000000</td>\n",
              "      <td>0.071429</td>\n",
              "      <td>0.834085</td>\n",
              "    </tr>\n",
              "    <tr>\n",
              "      <th>8</th>\n",
              "      <td>Google</td>\n",
              "      <td>0.240000</td>\n",
              "      <td>0.041667</td>\n",
              "      <td>0.240000</td>\n",
              "      <td>0.886276</td>\n",
              "    </tr>\n",
              "    <tr>\n",
              "      <th>9</th>\n",
              "      <td>Facebook</td>\n",
              "      <td>0.311688</td>\n",
              "      <td>0.053333</td>\n",
              "      <td>0.181818</td>\n",
              "      <td>0.868959</td>\n",
              "    </tr>\n",
              "    <tr>\n",
              "      <th>10</th>\n",
              "      <td>Distill</td>\n",
              "      <td>0.311688</td>\n",
              "      <td>0.106667</td>\n",
              "      <td>0.181818</td>\n",
              "      <td>0.863792</td>\n",
              "    </tr>\n",
              "    <tr>\n",
              "      <th>11</th>\n",
              "      <td>Google</td>\n",
              "      <td>0.218487</td>\n",
              "      <td>0.000000</td>\n",
              "      <td>0.134454</td>\n",
              "      <td>0.849014</td>\n",
              "    </tr>\n",
              "    <tr>\n",
              "      <th>12</th>\n",
              "      <td>Facebook</td>\n",
              "      <td>0.183908</td>\n",
              "      <td>0.047059</td>\n",
              "      <td>0.114943</td>\n",
              "      <td>0.848282</td>\n",
              "    </tr>\n",
              "    <tr>\n",
              "      <th>13</th>\n",
              "      <td>Distill</td>\n",
              "      <td>0.195122</td>\n",
              "      <td>0.025000</td>\n",
              "      <td>0.170732</td>\n",
              "      <td>0.857838</td>\n",
              "    </tr>\n",
              "    <tr>\n",
              "      <th>14</th>\n",
              "      <td>Google</td>\n",
              "      <td>0.103448</td>\n",
              "      <td>0.000000</td>\n",
              "      <td>0.103448</td>\n",
              "      <td>0.805967</td>\n",
              "    </tr>\n",
              "  </tbody>\n",
              "</table>\n",
              "</div>\n",
              "    <div class=\"colab-df-buttons\">\n",
              "\n",
              "  <div class=\"colab-df-container\">\n",
              "    <button class=\"colab-df-convert\" onclick=\"convertToInteractive('df-0c3ec343-a2b9-4cea-83c3-3ce561750ec5')\"\n",
              "            title=\"Convert this dataframe to an interactive table.\"\n",
              "            style=\"display:none;\">\n",
              "\n",
              "  <svg xmlns=\"http://www.w3.org/2000/svg\" height=\"24px\" viewBox=\"0 -960 960 960\">\n",
              "    <path d=\"M120-120v-720h720v720H120Zm60-500h600v-160H180v160Zm220 220h160v-160H400v160Zm0 220h160v-160H400v160ZM180-400h160v-160H180v160Zm440 0h160v-160H620v160ZM180-180h160v-160H180v160Zm440 0h160v-160H620v160Z\"/>\n",
              "  </svg>\n",
              "    </button>\n",
              "\n",
              "  <style>\n",
              "    .colab-df-container {\n",
              "      display:flex;\n",
              "      gap: 12px;\n",
              "    }\n",
              "\n",
              "    .colab-df-convert {\n",
              "      background-color: #E8F0FE;\n",
              "      border: none;\n",
              "      border-radius: 50%;\n",
              "      cursor: pointer;\n",
              "      display: none;\n",
              "      fill: #1967D2;\n",
              "      height: 32px;\n",
              "      padding: 0 0 0 0;\n",
              "      width: 32px;\n",
              "    }\n",
              "\n",
              "    .colab-df-convert:hover {\n",
              "      background-color: #E2EBFA;\n",
              "      box-shadow: 0px 1px 2px rgba(60, 64, 67, 0.3), 0px 1px 3px 1px rgba(60, 64, 67, 0.15);\n",
              "      fill: #174EA6;\n",
              "    }\n",
              "\n",
              "    .colab-df-buttons div {\n",
              "      margin-bottom: 4px;\n",
              "    }\n",
              "\n",
              "    [theme=dark] .colab-df-convert {\n",
              "      background-color: #3B4455;\n",
              "      fill: #D2E3FC;\n",
              "    }\n",
              "\n",
              "    [theme=dark] .colab-df-convert:hover {\n",
              "      background-color: #434B5C;\n",
              "      box-shadow: 0px 1px 3px 1px rgba(0, 0, 0, 0.15);\n",
              "      filter: drop-shadow(0px 1px 2px rgba(0, 0, 0, 0.3));\n",
              "      fill: #FFFFFF;\n",
              "    }\n",
              "  </style>\n",
              "\n",
              "    <script>\n",
              "      const buttonEl =\n",
              "        document.querySelector('#df-0c3ec343-a2b9-4cea-83c3-3ce561750ec5 button.colab-df-convert');\n",
              "      buttonEl.style.display =\n",
              "        google.colab.kernel.accessAllowed ? 'block' : 'none';\n",
              "\n",
              "      async function convertToInteractive(key) {\n",
              "        const element = document.querySelector('#df-0c3ec343-a2b9-4cea-83c3-3ce561750ec5');\n",
              "        const dataTable =\n",
              "          await google.colab.kernel.invokeFunction('convertToInteractive',\n",
              "                                                    [key], {});\n",
              "        if (!dataTable) return;\n",
              "\n",
              "        const docLinkHtml = 'Like what you see? Visit the ' +\n",
              "          '<a target=\"_blank\" href=https://colab.research.google.com/notebooks/data_table.ipynb>data table notebook</a>'\n",
              "          + ' to learn more about interactive tables.';\n",
              "        element.innerHTML = '';\n",
              "        dataTable['output_type'] = 'display_data';\n",
              "        await google.colab.output.renderOutput(dataTable, element);\n",
              "        const docLink = document.createElement('div');\n",
              "        docLink.innerHTML = docLinkHtml;\n",
              "        element.appendChild(docLink);\n",
              "      }\n",
              "    </script>\n",
              "  </div>\n",
              "\n",
              "\n",
              "<div id=\"df-3f7abc16-4e44-40a5-813a-b0e2cf7b266e\">\n",
              "  <button class=\"colab-df-quickchart\" onclick=\"quickchart('df-3f7abc16-4e44-40a5-813a-b0e2cf7b266e')\"\n",
              "            title=\"Suggest charts\"\n",
              "            style=\"display:none;\">\n",
              "\n",
              "<svg xmlns=\"http://www.w3.org/2000/svg\" height=\"24px\"viewBox=\"0 0 24 24\"\n",
              "     width=\"24px\">\n",
              "    <g>\n",
              "        <path d=\"M19 3H5c-1.1 0-2 .9-2 2v14c0 1.1.9 2 2 2h14c1.1 0 2-.9 2-2V5c0-1.1-.9-2-2-2zM9 17H7v-7h2v7zm4 0h-2V7h2v10zm4 0h-2v-4h2v4z\"/>\n",
              "    </g>\n",
              "</svg>\n",
              "  </button>\n",
              "\n",
              "<style>\n",
              "  .colab-df-quickchart {\n",
              "      --bg-color: #E8F0FE;\n",
              "      --fill-color: #1967D2;\n",
              "      --hover-bg-color: #E2EBFA;\n",
              "      --hover-fill-color: #174EA6;\n",
              "      --disabled-fill-color: #AAA;\n",
              "      --disabled-bg-color: #DDD;\n",
              "  }\n",
              "\n",
              "  [theme=dark] .colab-df-quickchart {\n",
              "      --bg-color: #3B4455;\n",
              "      --fill-color: #D2E3FC;\n",
              "      --hover-bg-color: #434B5C;\n",
              "      --hover-fill-color: #FFFFFF;\n",
              "      --disabled-bg-color: #3B4455;\n",
              "      --disabled-fill-color: #666;\n",
              "  }\n",
              "\n",
              "  .colab-df-quickchart {\n",
              "    background-color: var(--bg-color);\n",
              "    border: none;\n",
              "    border-radius: 50%;\n",
              "    cursor: pointer;\n",
              "    display: none;\n",
              "    fill: var(--fill-color);\n",
              "    height: 32px;\n",
              "    padding: 0;\n",
              "    width: 32px;\n",
              "  }\n",
              "\n",
              "  .colab-df-quickchart:hover {\n",
              "    background-color: var(--hover-bg-color);\n",
              "    box-shadow: 0 1px 2px rgba(60, 64, 67, 0.3), 0 1px 3px 1px rgba(60, 64, 67, 0.15);\n",
              "    fill: var(--button-hover-fill-color);\n",
              "  }\n",
              "\n",
              "  .colab-df-quickchart-complete:disabled,\n",
              "  .colab-df-quickchart-complete:disabled:hover {\n",
              "    background-color: var(--disabled-bg-color);\n",
              "    fill: var(--disabled-fill-color);\n",
              "    box-shadow: none;\n",
              "  }\n",
              "\n",
              "  .colab-df-spinner {\n",
              "    border: 2px solid var(--fill-color);\n",
              "    border-color: transparent;\n",
              "    border-bottom-color: var(--fill-color);\n",
              "    animation:\n",
              "      spin 1s steps(1) infinite;\n",
              "  }\n",
              "\n",
              "  @keyframes spin {\n",
              "    0% {\n",
              "      border-color: transparent;\n",
              "      border-bottom-color: var(--fill-color);\n",
              "      border-left-color: var(--fill-color);\n",
              "    }\n",
              "    20% {\n",
              "      border-color: transparent;\n",
              "      border-left-color: var(--fill-color);\n",
              "      border-top-color: var(--fill-color);\n",
              "    }\n",
              "    30% {\n",
              "      border-color: transparent;\n",
              "      border-left-color: var(--fill-color);\n",
              "      border-top-color: var(--fill-color);\n",
              "      border-right-color: var(--fill-color);\n",
              "    }\n",
              "    40% {\n",
              "      border-color: transparent;\n",
              "      border-right-color: var(--fill-color);\n",
              "      border-top-color: var(--fill-color);\n",
              "    }\n",
              "    60% {\n",
              "      border-color: transparent;\n",
              "      border-right-color: var(--fill-color);\n",
              "    }\n",
              "    80% {\n",
              "      border-color: transparent;\n",
              "      border-right-color: var(--fill-color);\n",
              "      border-bottom-color: var(--fill-color);\n",
              "    }\n",
              "    90% {\n",
              "      border-color: transparent;\n",
              "      border-bottom-color: var(--fill-color);\n",
              "    }\n",
              "  }\n",
              "</style>\n",
              "\n",
              "  <script>\n",
              "    async function quickchart(key) {\n",
              "      const quickchartButtonEl =\n",
              "        document.querySelector('#' + key + ' button');\n",
              "      quickchartButtonEl.disabled = true;  // To prevent multiple clicks.\n",
              "      quickchartButtonEl.classList.add('colab-df-spinner');\n",
              "      try {\n",
              "        const charts = await google.colab.kernel.invokeFunction(\n",
              "            'suggestCharts', [key], {});\n",
              "      } catch (error) {\n",
              "        console.error('Error during call to suggestCharts:', error);\n",
              "      }\n",
              "      quickchartButtonEl.classList.remove('colab-df-spinner');\n",
              "      quickchartButtonEl.classList.add('colab-df-quickchart-complete');\n",
              "    }\n",
              "    (() => {\n",
              "      let quickchartButtonEl =\n",
              "        document.querySelector('#df-3f7abc16-4e44-40a5-813a-b0e2cf7b266e button');\n",
              "      quickchartButtonEl.style.display =\n",
              "        google.colab.kernel.accessAllowed ? 'block' : 'none';\n",
              "    })();\n",
              "  </script>\n",
              "</div>\n",
              "\n",
              "  <div id=\"id_c6d96753-c9d0-4a89-ba89-299f9932d01c\">\n",
              "    <style>\n",
              "      .colab-df-generate {\n",
              "        background-color: #E8F0FE;\n",
              "        border: none;\n",
              "        border-radius: 50%;\n",
              "        cursor: pointer;\n",
              "        display: none;\n",
              "        fill: #1967D2;\n",
              "        height: 32px;\n",
              "        padding: 0 0 0 0;\n",
              "        width: 32px;\n",
              "      }\n",
              "\n",
              "      .colab-df-generate:hover {\n",
              "        background-color: #E2EBFA;\n",
              "        box-shadow: 0px 1px 2px rgba(60, 64, 67, 0.3), 0px 1px 3px 1px rgba(60, 64, 67, 0.15);\n",
              "        fill: #174EA6;\n",
              "      }\n",
              "\n",
              "      [theme=dark] .colab-df-generate {\n",
              "        background-color: #3B4455;\n",
              "        fill: #D2E3FC;\n",
              "      }\n",
              "\n",
              "      [theme=dark] .colab-df-generate:hover {\n",
              "        background-color: #434B5C;\n",
              "        box-shadow: 0px 1px 3px 1px rgba(0, 0, 0, 0.15);\n",
              "        filter: drop-shadow(0px 1px 2px rgba(0, 0, 0, 0.3));\n",
              "        fill: #FFFFFF;\n",
              "      }\n",
              "    </style>\n",
              "    <button class=\"colab-df-generate\" onclick=\"generateWithVariable('df')\"\n",
              "            title=\"Generate code using this dataframe.\"\n",
              "            style=\"display:none;\">\n",
              "\n",
              "  <svg xmlns=\"http://www.w3.org/2000/svg\" height=\"24px\"viewBox=\"0 0 24 24\"\n",
              "       width=\"24px\">\n",
              "    <path d=\"M7,19H8.4L18.45,9,17,7.55,7,17.6ZM5,21V16.75L18.45,3.32a2,2,0,0,1,2.83,0l1.4,1.43a1.91,1.91,0,0,1,.58,1.4,1.91,1.91,0,0,1-.58,1.4L9.25,21ZM18.45,9,17,7.55Zm-12,3A5.31,5.31,0,0,0,4.9,8.1,5.31,5.31,0,0,0,1,6.5,5.31,5.31,0,0,0,4.9,4.9,5.31,5.31,0,0,0,6.5,1,5.31,5.31,0,0,0,8.1,4.9,5.31,5.31,0,0,0,12,6.5,5.46,5.46,0,0,0,6.5,12Z\"/>\n",
              "  </svg>\n",
              "    </button>\n",
              "    <script>\n",
              "      (() => {\n",
              "      const buttonEl =\n",
              "        document.querySelector('#id_c6d96753-c9d0-4a89-ba89-299f9932d01c button.colab-df-generate');\n",
              "      buttonEl.style.display =\n",
              "        google.colab.kernel.accessAllowed ? 'block' : 'none';\n",
              "\n",
              "      buttonEl.onclick = () => {\n",
              "        google.colab.notebook.generateWithVariable('df');\n",
              "      }\n",
              "      })();\n",
              "    </script>\n",
              "  </div>\n",
              "\n",
              "    </div>\n",
              "  </div>\n"
            ],
            "application/vnd.google.colaboratory.intrinsic+json": {
              "type": "dataframe",
              "variable_name": "df",
              "summary": "{\n  \"name\": \"df\",\n  \"rows\": 15,\n  \"fields\": [\n    {\n      \"column\": \"Model\",\n      \"properties\": {\n        \"dtype\": \"category\",\n        \"num_unique_values\": 3,\n        \"samples\": [\n          \"Facebook\",\n          \"Distill\",\n          \"Google\"\n        ],\n        \"semantic_type\": \"\",\n        \"description\": \"\"\n      }\n    },\n    {\n      \"column\": \"ROUGE-1\",\n      \"properties\": {\n        \"dtype\": \"number\",\n        \"std\": 0.08665693811667075,\n        \"min\": 0.03921568627450981,\n        \"max\": 0.35555555555555557,\n        \"num_unique_values\": 14,\n        \"samples\": [\n          0.31168831168831174,\n          0.1839080459770115,\n          0.25\n        ],\n        \"semantic_type\": \"\",\n        \"description\": \"\"\n      }\n    },\n    {\n      \"column\": \"ROUGE-2\",\n      \"properties\": {\n        \"dtype\": \"number\",\n        \"std\": 0.042327734962534946,\n        \"min\": 0.0,\n        \"max\": 0.13636363636363638,\n        \"num_unique_values\": 9,\n        \"samples\": [\n          0.047058823529411764,\n          0.0,\n          0.05333333333333333\n        ],\n        \"semantic_type\": \"\",\n        \"description\": \"\"\n      }\n    },\n    {\n      \"column\": \"ROUGE-L\",\n      \"properties\": {\n        \"dtype\": \"number\",\n        \"std\": 0.0534264623156657,\n        \"min\": 0.023529411764705882,\n        \"max\": 0.24000000000000005,\n        \"num_unique_values\": 14,\n        \"samples\": [\n          0.18181818181818182,\n          0.11494252873563217,\n          0.1388888888888889\n        ],\n        \"semantic_type\": \"\",\n        \"description\": \"\"\n      }\n    },\n    {\n      \"column\": \"BERTScore F1\",\n      \"properties\": {\n        \"dtype\": \"number\",\n        \"std\": 0.025090954679970502,\n        \"min\": 0.7877741456031799,\n        \"max\": 0.8862763047218323,\n        \"num_unique_values\": 15,\n        \"samples\": [\n          0.8689586520195007,\n          0.8490138053894043,\n          0.8593079447746277\n        ],\n        \"semantic_type\": \"\",\n        \"description\": \"\"\n      }\n    }\n  ]\n}"
            }
          },
          "metadata": {},
          "execution_count": 70
        }
      ]
    },
    {
      "cell_type": "code",
      "execution_count": 73,
      "metadata": {
        "colab": {
          "base_uri": "https://localhost:8080/"
        },
        "id": "PdRvPWRcUD7G",
        "outputId": "00cb1ba3-9d1d-4ec1-fb28-2cc277be3057"
      },
      "outputs": [
        {
          "output_type": "stream",
          "name": "stdout",
          "text": [
            "           ROUGE-1   ROUGE-2   ROUGE-L BERTScore F1\n",
            "Model                                              \n",
            "Distill   0.236007  0.053606  0.141404     0.853533\n",
            "Facebook  0.217093  0.031507  0.126999     0.857519\n",
            "Google    0.193821  0.021678  0.145568     0.844158\n"
          ]
        }
      ],
      "source": [
        "mean_values = df.groupby(\"Model\").mean()\n",
        "\n",
        "print(mean_values)"
      ]
    },
    {
      "cell_type": "markdown",
      "metadata": {
        "id": "j1bHJekHp9np"
      },
      "source": [
        "# Custom Testing"
      ]
    },
    {
      "cell_type": "code",
      "execution_count": 67,
      "metadata": {
        "colab": {
          "base_uri": "https://localhost:8080/"
        },
        "id": "KJo7GWrNp9Gd",
        "outputId": "d0f05fac-969a-4541-fcbc-4360012c80ef"
      },
      "outputs": [
        {
          "output_type": "stream",
          "name": "stdout",
          "text": [
            "Facebook summary on custom input [{'summary_text': 'Met Office has issued a yellow weather warning for wind covering Wales and England. Travel and power are both likely to be disrupted, with the warning to remain in place until 15:00 on Thursday. Gusts of 55mph (88kmh) are likely and could hit up to 70mph on coasts and hills, with heavy and blustery showers.'}]\n",
            "Rouge score:  {'rouge1': Score(precision=0.17857142857142858, recall=0.5, fmeasure=0.2631578947368421), 'rouge2': Score(precision=0.0, recall=0.0, fmeasure=0.0), 'rougeL': Score(precision=0.08928571428571429, recall=0.25, fmeasure=0.13157894736842105), 'rougeLsum': Score(precision=0.08928571428571429, recall=0.25, fmeasure=0.13157894736842105)}\n"
          ]
        }
      ],
      "source": [
        "article = '''The Met Office has issued a yellow weather warning for wind covering Wales and England,\n",
        "starting from 21:00 GMT on Wednesday evening. Travel and power are both likely to be disrupted, with\n",
        "the warning to remain in place until 15:00 on Thursday. Gusts of 55mph (88kmh) are likely and could hit\n",
        "up to 70mph on coasts and hills, with heavy and blustery showers.The Met Office has issued a yellow weather\n",
        " warning for wind covering Wales and England, starting from 21:00 GMT on Wednesday evening. Travel and power\n",
        " are both likely to be disrupted, with the warning to remain in place until 15:00 on Thursday. Gusts of 55mph\n",
        " (88kmh) are likely and could hit up to 70mph on coasts and hills, with heavy and blustery showers.'''\n",
        "\n",
        "summary = '''\n",
        "Winds could reach gale force in Wales with stormy weather set to hit the whole of the country this week.\n",
        "'''\n",
        "\n",
        "facebook_summary = facebook_cnn_pipe(article)\n",
        "print(\"Facebook summary on custom input\", facebook_summary)\n",
        "def calculate_rouge(model_summary, reference):\n",
        "  scorer = rouge_scorer.RougeScorer(['rouge1', 'rouge2', 'rougeL', 'rougeLsum'], use_stemmer=True)\n",
        "  return scorer.score(reference, model_summary[0]['summary_text'])\n",
        "\n",
        "facebook_rouge = calculate_rouge(facebook_summary, summary)\n",
        "print(\"Rouge score: \", facebook_rouge)"
      ]
    },
    {
      "cell_type": "code",
      "execution_count": 68,
      "metadata": {
        "colab": {
          "base_uri": "https://localhost:8080/",
          "height": 591
        },
        "id": "_ieaF2Gsxff-",
        "outputId": "86628d7e-8473-45e6-ee49-a821c468ae9e"
      },
      "outputs": [
        {
          "output_type": "stream",
          "name": "stdout",
          "text": [
            "Colab notebook detected. To show errors in colab notebook, set debug=True in launch()\n",
            "* Running on public URL: https://50a06e9c6c0a3ab752.gradio.live\n",
            "\n",
            "This share link expires in 72 hours. For free permanent hosting and GPU upgrades, run `gradio deploy` from the terminal in the working directory to deploy to Hugging Face Spaces (https://huggingface.co/spaces)\n"
          ]
        },
        {
          "output_type": "display_data",
          "data": {
            "text/plain": [
              "<IPython.core.display.HTML object>"
            ],
            "text/html": [
              "<div><iframe src=\"https://50a06e9c6c0a3ab752.gradio.live\" width=\"100%\" height=\"500\" allow=\"autoplay; camera; microphone; clipboard-read; clipboard-write;\" frameborder=\"0\" allowfullscreen></iframe></div>"
            ]
          },
          "metadata": {}
        },
        {
          "output_type": "execute_result",
          "data": {
            "text/plain": []
          },
          "metadata": {},
          "execution_count": 68
        }
      ],
      "source": [
        "import gradio as gr\n",
        "def summarize(text, model_name):\n",
        "    if model_name == 'Facebook':\n",
        "        summary = facebook_cnn_pipe(text)[0]['summary_text']\n",
        "    elif model_name == 'Distill':\n",
        "        summary = distilbart_pipe(text)[0]['summary_text']\n",
        "    elif model_name == 'Google':\n",
        "        summary = google_pipe(text)[0]['summary_text']\n",
        "    return summary\n",
        "\n",
        "model_dropdown = gr.Dropdown(choices=['Facebook', 'Distill', 'Google'], label=\"Choose Model\")\n",
        "\n",
        "interface = gr.Interface(fn=summarize,\n",
        "                     inputs=[\"text\", model_dropdown],\n",
        "                     outputs=\"text\",\n",
        "                     title=\"Text Summarization\",\n",
        "                     description=\"Select one of the models\")\n",
        "\n",
        "# Launch the interface\n",
        "interface.launch(share=True)\n"
      ]
    },
    {
      "cell_type": "code",
      "source": [],
      "metadata": {
        "id": "FimfKtoDuXLE"
      },
      "execution_count": null,
      "outputs": []
    }
  ],
  "metadata": {
    "accelerator": "GPU",
    "colab": {
      "gpuType": "T4",
      "provenance": []
    },
    "kernelspec": {
      "display_name": "Python 3",
      "name": "python3"
    },
    "language_info": {
      "name": "python"
    }
  },
  "nbformat": 4,
  "nbformat_minor": 0
}